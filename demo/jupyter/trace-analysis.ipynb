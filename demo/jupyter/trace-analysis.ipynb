{
 "cells": [
  {
   "cell_type": "code",
   "execution_count": null,
   "id": "0",
   "metadata": {},
   "outputs": [],
   "source": [
    "trace_path = r'./dataset/20250519122059.zarr'"
   ]
  },
  {
   "cell_type": "code",
   "execution_count": null,
   "id": "1",
   "metadata": {},
   "outputs": [],
   "source": [
    "from cracknuts.trace import ScarrTraceDataset\n",
    "# 加载 scarr 格式的数据集\n",
    "ds = ScarrTraceDataset.load(trace_path)"
   ]
  },
  {
   "cell_type": "markdown",
   "id": "2",
   "metadata": {},
   "source": [
    "**查看曲线**"
   ]
  },
  {
   "cell_type": "code",
   "execution_count": null,
   "id": "3",
   "metadata": {},
   "outputs": [],
   "source": [
    "# Print dataset info\n",
    "ds.info()"
   ]
  },
  {
   "cell_type": "code",
   "execution_count": null,
   "id": "4",
   "metadata": {},
   "outputs": [],
   "source": [
    "# Show trace panel\n",
    "import cracknuts as cn\n",
    "pt = cn.panel_trace()\n",
    "pt.set_trace_dataset(ds)\n",
    "pt"
   ]
  },
  {
   "cell_type": "code",
   "execution_count": null,
   "id": "5",
   "metadata": {},
   "outputs": [],
   "source": [
    "# Change trace index.\n",
    "# show_trace 接收两个索引参数，第一个参数是通道索引，第二个是曲线索引，两个参数支持高级索引\n",
    "# 需要注意的是通道A和B的名称在数据里为0和1，而其索引则根曲线文件中存储的通道数量有关系，如果只有一个通道时，无论哪个通道索引都为0，如果同时有A B两个通道则A通道索引为0，B通道索引为1，可以通过 ds.channel_names 进行确认当前曲线存储的时哪个通道\n",
    "\n",
    "# 展示第一通道的前10条曲线\n",
    "# pt.show_trace[0, :10]\n",
    "# 展示第一通道的后10条曲线\n",
    "# pt.show_trace[0, -10:]\n",
    "# 展示第一通道的 10-20 曲线\n",
    "pt.show_trace[0, 10:20]\n",
    "# 展示所有(两个)通道的前10条中的偶数位曲线\n",
    "# pt.show_trace[:, :10:2]"
   ]
  },
  {
   "cell_type": "markdown",
   "id": "6",
   "metadata": {},
   "source": [
    "**分析数据**"
   ]
  },
  {
   "cell_type": "code",
   "execution_count": null,
   "id": "7",
   "metadata": {},
   "outputs": [],
   "source": [
    "from scarr.engines.cpa import CPA as cpa\n",
    "from scarr.file_handling.trace_handler import TraceHandler as th\n",
    "from scarr.model_values.sbox_weight import SboxWeight\n",
    "from scarr.container.container import Container, ContainerOptions\n",
    "import numpy as np"
   ]
  },
  {
   "cell_type": "code",
   "execution_count": null,
   "id": "8",
   "metadata": {},
   "outputs": [],
   "source": [
    "handler = th(fileName=trace_path) \n",
    "model = SboxWeight() \n",
    "engine = cpa(model)\n",
    "container = Container(options=ContainerOptions(engine=engine, handler=handler), model_positions = [x for x in range(16)])\n",
    "container.run()"
   ]
  },
  {
   "cell_type": "code",
   "execution_count": null,
   "id": "9",
   "metadata": {},
   "outputs": [],
   "source": [
    "candidate = np.squeeze(engine.get_candidate()) # get_candidate 获取各个字节的密钥的计算结果\n",
    "' '.join(f\"{x:02x}\" for x in candidate) # 打印计算出的密钥"
   ]
  },
  {
   "cell_type": "code",
   "execution_count": null,
   "id": "10",
   "metadata": {},
   "outputs": [],
   "source": [
    "result_bytes = np.squeeze(container.engine.get_result())"
   ]
  },
  {
   "cell_type": "code",
   "execution_count": null,
   "id": "11",
   "metadata": {},
   "outputs": [],
   "source": [
    "# 打印第0个字节相关性最大的前10个相关系数机器对应的密钥猜测值\n",
    "result_0_bytes = result_bytes[0] # 获取第0字节的的相关系数\n",
    "row_max_indices = np.argmax(np.abs(result_0_bytes), axis=1) \n",
    "row_max_values = result_0_bytes[np.arange(result_0_bytes.shape[0]), row_max_indices]\n",
    "\n",
    "top10_row_indices = np.argsort(np.abs(row_max_values))[::-1][:10]\n",
    "\n",
    "for rank, row in enumerate(top10_row_indices, 1):\n",
    "    col = row_max_indices[row]\n",
    "    val = row_max_values[row]\n",
    "    print(f\"第 {rank} 候选值: 0x{row:0X}，对应的相关系数为: {val}，最高相关系数位置： {col}\")"
   ]
  },
  {
   "cell_type": "code",
   "execution_count": null,
   "id": "12",
   "metadata": {},
   "outputs": [],
   "source": [
    "import numpy as np\n",
    "import matplotlib.pyplot as plt\n",
    "\n",
    "def plot_correlation_peaks(bytes_index, the_key):\n",
    "    \n",
    "    x = np.arange(0, 5000)\n",
    "    \n",
    "    fig, ax = plt.subplots(figsize=(30, 4))\n",
    "    \n",
    "    for i in range(256):\n",
    "        if i == the_key:\n",
    "            continue\n",
    "        ax.plot(x, result_bytes[bytes_index, i, :5000], color='gray', linewidth=0.5, alpha=0.3)\n",
    "            \n",
    "    ax.plot(x, result_bytes[bytes_index, the_key, :5000], color='red', linewidth=1.0)\n",
    "    \n",
    "    ax.grid(True, linestyle='--', alpha=0.3)\n",
    "    plt.tight_layout()\n",
    "    \n",
    "    plt.show()"
   ]
  },
  {
   "cell_type": "code",
   "execution_count": null,
   "id": "13",
   "metadata": {},
   "outputs": [],
   "source": [
    "# 把第0个字节的256个密钥猜测下的相关系数曲线画出来。正确密钥用红色画出，其它密钥用灰色画出。可以看出正确密钥对应的相关系数曲线存在最明显的尖峰。\n",
    "plot_correlation_peaks(0, 0x11)"
   ]
  },
  {
   "cell_type": "code",
   "execution_count": null,
   "id": "14",
   "metadata": {},
   "outputs": [],
   "source": [
    "# 同样，我们可以查看第1个字节的256个密钥猜测值的相关系数曲线\n",
    "plot_correlation_peaks(1, 0x22)"
   ]
  },
  {
   "cell_type": "code",
   "execution_count": null,
   "id": "15",
   "metadata": {},
   "outputs": [],
   "source": [
    "# 同样，我们可以查看第2个字节的256个密钥猜测值的相关系数曲线\n",
    "plot_correlation_peaks(2, 0x33)"
   ]
  },
  {
   "cell_type": "code",
   "execution_count": null,
   "id": "16",
   "metadata": {},
   "outputs": [],
   "source": [
    "# 同样，我们可以查看第3个字节的256个密钥猜测值的相关系数曲线\n",
    "plot_correlation_peaks(3, 0x44)"
   ]
  },
  {
   "cell_type": "code",
   "execution_count": null,
   "id": "17",
   "metadata": {},
   "outputs": [],
   "source": [
    "import numpy as np\n",
    "import matplotlib.pyplot as plt\n",
    "\n",
    "x = np.arange(0, 5000)\n",
    "\n",
    "fig, ax = plt.subplots(figsize=(30, 4))\n",
    "\n",
    "ax.plot(x, result_bytes[0, 0x11, :5000].T, linewidth=1.0, label='0x11')\n",
    "ax.plot(x, result_bytes[1, 0x22, :5000].T, linewidth=1.0, label='0x22')\n",
    "ax.plot(x, result_bytes[2, 0x33, :5000].T, linewidth=1.0, label='0x33')\n",
    "ax.plot(x, result_bytes[3, 0x44, :5000].T, linewidth=1.0, label='0x44')\n",
    "ax.plot(x, result_bytes[4, 0x55, :5000].T, linewidth=1.0, label='0x55')\n",
    "ax.plot(x, result_bytes[5, 0x66, :5000].T, linewidth=1.0, label='0x66')\n",
    "ax.plot(x, result_bytes[6, 0x77, :5000].T, linewidth=1.0, label='0x77')\n",
    "ax.plot(x, result_bytes[7, 0x88, :5000].T, linewidth=1.0, label='0x88')\n",
    "ax.plot(x, result_bytes[8, 0x99, :5000].T, linewidth=1.0, label='0x99')\n",
    "ax.plot(x, result_bytes[9, 0x00, :5000].T, linewidth=1.0, label='0x00')\n",
    "ax.plot(x, result_bytes[10, 0xaa, :5000].T, linewidth=1.0, label='0xaa')\n",
    "ax.plot(x, result_bytes[11, 0xbb, :5000].T, linewidth=1.0, label='0xbb')\n",
    "ax.plot(x, result_bytes[12, 0xcc, :5000].T, linewidth=1.0, label='0xcc')\n",
    "ax.plot(x, result_bytes[13, 0xdd, :5000].T, linewidth=1.0, label='0xdd')\n",
    "ax.plot(x, result_bytes[14, 0xee, :5000].T, linewidth=1.0, label='0xee')\n",
    "ax.plot(x, result_bytes[15, 0xff, :5000].T, linewidth=1.0, label='0xff')\n",
    "\n",
    "ax.grid(True, linestyle='--', alpha=0.3)\n",
    "ax.legend(loc='upper right', fontsize='small', ncol=2)\n",
    "\n",
    "plt.tight_layout()\n",
    "\n",
    "# 显示图像\n",
    "plt.show()"
   ]
  }
 ],
 "metadata": {
  "kernelspec": {
   "display_name": "Python 3 (ipykernel)",
   "language": "python",
   "name": "python3"
  },
  "language_info": {
   "codemirror_mode": {
    "name": "ipython",
    "version": 3
   },
   "file_extension": ".py",
   "mimetype": "text/x-python",
   "name": "python",
   "nbconvert_exporter": "python",
   "pygments_lexer": "ipython3",
   "version": "3.12.8"
  }
 },
 "nbformat": 4,
 "nbformat_minor": 5
}
