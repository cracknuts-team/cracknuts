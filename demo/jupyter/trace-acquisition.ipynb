{
 "cells": [
  {
   "cell_type": "code",
   "execution_count": null,
   "id": "0",
   "metadata": {},
   "outputs": [],
   "source": [
    "# 引入依赖\n",
    "import cracknuts as cn\n",
    "\n",
    "# 创建 cracker \n",
    "cracker = cn.new_cracker('192.168.0.10')"
   ]
  },
  {
   "cell_type": "code",
   "execution_count": null,
   "id": "1",
   "metadata": {},
   "outputs": [],
   "source": [
    "cracker.connect()"
   ]
  },
  {
   "cell_type": "code",
   "execution_count": null,
   "id": "2",
   "metadata": {},
   "outputs": [],
   "source": [
    "cracker.get_id() # 获取设备ID"
   ]
  },
  {
   "cell_type": "code",
   "execution_count": null,
   "id": "3",
   "metadata": {},
   "outputs": [],
   "source": [
    "import random\n",
    "import time\n",
    "from cracknuts.cracker import serial\n",
    "\n",
    "\n",
    "cmd_set_aes_enc_key = \"01 00 00 00 00 00 00 10\"\n",
    "cmd_aes_enc = \"01 02 00 00 00 00 00 10\"\n",
    "\n",
    "aes_key = \"11 22 33 44 55 66 77 88 99 00 aa bb cc dd ee ff\"\n",
    "aes_data_len = 16\n",
    "\n",
    "sample_length = 1024 * 20\n",
    "\n",
    "def init(c):\n",
    "    cracker.nut_voltage_enable()\n",
    "    cracker.nut_voltage(3.3)\n",
    "    cracker.nut_clock_enable()\n",
    "    cracker.nut_clock_freq('8M')\n",
    "    cracker.uart_io_enable()\n",
    "    cracker.osc_sample_clock('48m')\n",
    "    cracker.osc_sample_length(sample_length)\n",
    "    cracker.osc_trigger_source('N')\n",
    "    cracker.osc_analog_gain('B', 10)\n",
    "    cracker.osc_trigger_level(0)\n",
    "    cracker.osc_trigger_mode('E')\n",
    "    cracker.osc_trigger_edge('U')\n",
    "    cracker.uart_config(baudrate=serial.Baudrate.BAUDRATE_115200, bytesize=serial.Bytesize.EIGHTBITS, parity=serial.Parity.PARITY_NONE, stopbits=serial.Stopbits.STOPBITS_ONE)\n",
    "\n",
    "    time.sleep(2)\n",
    "    cmd = cmd_set_aes_enc_key + aes_key\n",
    "    status, ret = cracker.uart_transmit_receive(cmd, timeout=1000, rx_count=6)\n",
    "\n",
    "def do(c):\n",
    "    plaintext_data = random.randbytes(aes_data_len)\n",
    "    tx_data = bytes.fromhex(cmd_aes_enc.replace(' ', '')) + plaintext_data\n",
    "    status, ret = cracker.uart_transmit_receive(tx_data, rx_count= 6 + aes_data_len, is_trigger=True)\n",
    "    \n",
    "    return {\n",
    "        \"plaintext\": plaintext_data,\n",
    "        \"ciphertext\": ret[-aes_data_len:],\n",
    "        \"key\": bytes.fromhex(aes_key)\n",
    "    }\n",
    "\n",
    "\n",
    "acq = cn.new_acquisition(cracker, do=do, init=init)"
   ]
  },
  {
   "cell_type": "code",
   "execution_count": null,
   "id": "4",
   "metadata": {},
   "outputs": [],
   "source": [
    "cn.panel(acq)"
   ]
  },
  {
   "cell_type": "code",
   "execution_count": null,
   "id": "5",
   "metadata": {},
   "outputs": [],
   "source": []
  }
 ],
 "metadata": {
  "kernelspec": {
   "display_name": "Python 3 (ipykernel)",
   "language": "python",
   "name": "python3"
  },
  "language_info": {
   "codemirror_mode": {
    "name": "ipython",
    "version": 3
   },
   "file_extension": ".py",
   "mimetype": "text/x-python",
   "name": "python",
   "nbconvert_exporter": "python",
   "pygments_lexer": "ipython3",
   "version": "3.12.8"
  }
 },
 "nbformat": 4,
 "nbformat_minor": 5
}
