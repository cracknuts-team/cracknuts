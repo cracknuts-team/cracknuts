{
 "cells": [
  {
   "cell_type": "code",
   "id": "1e6924c8-b4f1-41d2-aacd-b92997c30975",
   "metadata": {
    "ExecuteTime": {
     "end_time": "2024-11-27T09:26:43.929067Z",
     "start_time": "2024-11-27T09:26:43.872310Z"
    }
   },
   "source": [
    "from cracknuts.cracker.basic_cracker import CrackerS1\n",
    "from cracknuts.cracker.stateful_cracker import StatefulCracker\n",
    "\n",
    "# 创建 mock cracker \n",
    "cracker = CrackerS1(('localhost', 9761))\n",
    "# 创建 stateful cracker\n",
    "cracker = StatefulCracker(cracker)"
   ],
   "outputs": [],
   "execution_count": 1
  },
  {
   "cell_type": "code",
   "execution_count": null,
   "id": "2fa7cd85-57f7-4e65-8d99-e5ce665fc93a",
   "metadata": {},
   "outputs": [],
   "source": [
    "from cracknuts.cracker.operator import Operator\n",
    "operator = Operator('192.168.0.10', 9760)\n",
    "operator.connect()"
   ]
  },
  {
   "cell_type": "code",
   "execution_count": null,
   "id": "3e5092db-dc8e-4e70-92c6-1581cd4c0746",
   "metadata": {},
   "outputs": [],
   "source": [
    "with open('D:\\\\project\\\\cracknuts_panel\\\\demo\\\\.bin\\\\server-0.03.dev2', mode='rb') as f:\n",
    "    operator.update_server(f.read())\n",
    "    "
   ]
  },
  {
   "cell_type": "code",
   "execution_count": null,
   "id": "543697cc-fa40-49e2-b170-6cf91ee378a7",
   "metadata": {},
   "outputs": [],
   "source": [
    "with open('D:\\\\project\\\\cracknuts_panel\\\\demo\\\\.bin\\\\bitstream-cracker_s1_v0.2-0.0.28.bit.bin', mode='rb') as f:\n",
    "    operator.update_bitstream(f.read())"
   ]
  },
  {
   "cell_type": "code",
   "id": "14d87505-c01c-4419-96e0-ac02eaf81d2d",
   "metadata": {
    "ExecuteTime": {
     "end_time": "2024-11-27T09:26:47.683664Z",
     "start_time": "2024-11-27T09:26:47.622127Z"
    }
   },
   "source": [
    "from cracknuts.acquisition import Acquisition as template\n",
    "import time\n",
    "\n",
    "def do(cracker):\n",
    "    time.sleep(0.1)\n",
    "    return b'123123'\n",
    "\n",
    "# 构造 acquistion 实体\n",
    "acq = template.builder().cracker(cracker).init(lambda _: None).do(do).build()"
   ],
   "outputs": [],
   "execution_count": 2
  },
  {
   "cell_type": "code",
   "execution_count": null,
   "id": "8f5966cc-a671-4c08-8045-3a6dbb3aca3d",
   "metadata": {},
   "outputs": [],
   "source": [
    "cracker.osc_get_analog_wave(2, 0, 20480)"
   ]
  },
  {
   "cell_type": "code",
   "id": "b412c71d-9abc-493c-970f-8afe9f8cae96",
   "metadata": {
    "ExecuteTime": {
     "end_time": "2024-11-27T09:26:51.088191Z",
     "start_time": "2024-11-27T09:26:50.962744Z"
    }
   },
   "source": [
    "from cracknuts.jupyter import display_cracknuts_panel\n",
    "\n",
    "cp = display_cracknuts_panel(acq)\n",
    "cp"
   ],
   "outputs": [
    {
     "data": {
      "text/plain": [
       "CracknutsPanelWidget(acq_run_progress={'finished': 0, 'total': 1}, do_error_max_count=-1, nut_voltage=3500, sa…"
      ],
      "application/vnd.jupyter.widget-view+json": {
       "version_major": 2,
       "version_minor": 1,
       "model_id": "eea65edeaf514c0c861a68d30517387e"
      }
     },
     "execution_count": 3,
     "metadata": {},
     "output_type": "execute_result"
    }
   ],
   "execution_count": 3
  },
  {
   "cell_type": "code",
   "execution_count": null,
   "id": "10d3f6ee-e51f-460a-bf62-e8dee892ecc5",
   "metadata": {},
   "outputs": [],
   "source": [
    "# 启动运行模式, 在波形监控页面查看波形, 并且在 acq 控制模块展示进度\n",
    "# 默认存储类型 scarr\n",
    "acq.run(1000)\n",
    "# 指定存储类型为 numpy\n",
    "# acq.run(1000, file_format=\"numpy\")"
   ]
  },
  {
   "cell_type": "code",
   "execution_count": null,
   "id": "ddcd3d0b-cb7c-4dac-abf8-3989e2b147f0",
   "metadata": {},
   "outputs": [],
   "source": [
    "# 启动测试模式, 在波形监控面板启动监视即可展示设备返回的波形\n",
    "acq.test()"
   ]
  },
  {
   "cell_type": "code",
   "execution_count": null,
   "id": "7b7e70ec-b8b7-4da3-916e-0252513018b5",
   "metadata": {},
   "outputs": [],
   "source": [
    "# 停止测试/采集模式, 波形监控面板即停止显示波形\n",
    "acq.stop()"
   ]
  },
  {
   "cell_type": "code",
   "execution_count": null,
   "id": "fc74f669-cde0-4c78-ba87-36473414d7e8",
   "metadata": {},
   "outputs": [],
   "source": [
    "# 面板启动监视\n",
    "cp.start_monitor()"
   ]
  },
  {
   "cell_type": "code",
   "execution_count": null,
   "id": "a334ca53-88b3-4b7f-84a2-b75a2be4b451",
   "metadata": {},
   "outputs": [],
   "source": [
    "# 面板停止监视\n",
    "cp.stop_monitor()"
   ]
  },
  {
   "cell_type": "code",
   "execution_count": null,
   "id": "c5f7f6c3-c737-4963-8147-4a0c1cd8ad23",
   "metadata": {},
   "outputs": [],
   "source": [
    "# 通道配置, 启用第二通道后, 波形监控面板将增加一条曲线\n",
    "cracker.osc_set_analog_channel_enable({1: True, 2: True})"
   ]
  },
  {
   "cell_type": "code",
   "execution_count": null,
   "id": "ac58c78b-e872-481a-98a8-079eb19438ea",
   "metadata": {},
   "outputs": [],
   "source": [
    "cracker.disconnect()"
   ]
  },
  {
   "cell_type": "code",
   "execution_count": null,
   "id": "af19ce16-84f8-464d-ade4-da1ff24b1f1a",
   "metadata": {},
   "outputs": [],
   "source": [
    "cp.osc_analog_channel2_enable = True\n",
    "# cp.nut_enable=False"
   ]
  },
  {
   "cell_type": "code",
   "execution_count": null,
   "id": "d2d3abeb-e188-444d-ab50-da066a53a3aa",
   "metadata": {},
   "outputs": [],
   "source": [
    "cracker.get_current_config().nut_voltage"
   ]
  }
 ],
 "metadata": {
  "kernelspec": {
   "display_name": "Python 3 (ipykernel)",
   "language": "python",
   "name": "python3"
  },
  "language_info": {
   "codemirror_mode": {
    "name": "ipython",
    "version": 3
   },
   "file_extension": ".py",
   "mimetype": "text/x-python",
   "name": "python",
   "nbconvert_exporter": "python",
   "pygments_lexer": "ipython3",
   "version": "3.12.5"
  }
 },
 "nbformat": 4,
 "nbformat_minor": 5
}
