{
 "cells": [
  {
   "cell_type": "code",
   "execution_count": null,
   "id": "0",
   "metadata": {},
   "outputs": [],
   "source": [
    "from cracknuts.cracker.basic_cracker import CrackerS1\n",
    "from cracknuts.cracker.stateful_cracker import StatefulCracker\n",
    "\n",
    "# 创建 mock cracker \n",
    "cracker = CrackerS1(('localhost', 9761))\n",
    "# 创建 stateful cracker\n",
    "cracker = StatefulCracker(cracker)"
   ]
  },
  {
   "cell_type": "code",
   "execution_count": null,
   "id": "1",
   "metadata": {},
   "outputs": [],
   "source": [
    "from cracknuts.cracker.operator import Operator\n",
    "operator = Operator('192.168.0.10', 9760)\n",
    "operator.connect()"
   ]
  },
  {
   "cell_type": "code",
   "execution_count": null,
   "id": "2",
   "metadata": {},
   "outputs": [],
   "source": [
    "with open('D:\\\\project\\\\cracknuts_panel\\\\demo\\\\.bin\\\\server-0.03.dev2', mode='rb') as f:\n",
    "    operator.update_server(f.read())\n",
    "    "
   ]
  },
  {
   "cell_type": "code",
   "execution_count": null,
   "id": "3",
   "metadata": {},
   "outputs": [],
   "source": [
    "with open('D:\\\\project\\\\cracknuts_panel\\\\demo\\\\.bin\\\\bitstream-cracker_s1_v0.2-0.0.28.bit.bin', mode='rb') as f:\n",
    "    operator.update_bitstream(f.read())"
   ]
  },
  {
   "cell_type": "code",
   "execution_count": null,
   "id": "4",
   "metadata": {},
   "outputs": [],
   "source": [
    "from cracknuts.acquisition import Acquisition as template\n",
    "import time\n",
    "\n",
    "def do(cracker):\n",
    "    time.sleep(0.1)\n",
    "    return b'123123'\n",
    "\n",
    "# 构造 acquistion 实体\n",
    "acq = template.builder().cracker(cracker).init(lambda _: None).do(do).build()"
   ]
  },
  {
   "cell_type": "code",
   "execution_count": null,
   "id": "5",
   "metadata": {},
   "outputs": [],
   "source": [
    "import cracknuts as cn\n",
    "\n",
    "cn.new_acquisition(cracker)\n",
    "# isinstance(cracker, StatefulCracker)\n"
   ]
  },
  {
   "cell_type": "code",
   "execution_count": null,
   "id": "6",
   "metadata": {},
   "outputs": [],
   "source": [
    "from cracknuts import CrackNuts\n",
    "cn = CrackNuts(acq)\n",
    "\n",
    "cn"
   ]
  },
  {
   "cell_type": "code",
   "execution_count": null,
   "id": "7",
   "metadata": {},
   "outputs": [],
   "source": [
    "import ipywidgets as widgets\n",
    "import matplotlib.pyplot as plt\n",
    "from IPython.display import display, Image\n",
    "\n",
    "# 创建一个简单的 Widget 示例\n",
    "button = widgets.Button(description=\"Click Me!\")\n",
    "\n",
    "# 显示 Widget\n",
    "display(button)\n",
    "\n",
    "# 绘制图形并保存为 PNG\n",
    "fig, ax = plt.subplots(figsize=(6, 4))\n",
    "ax.text(0.5, 0.5, \"Custom Widget Image\", fontsize=15, ha='center')\n",
    "ax.axis('off')\n",
    "\n",
    "# 保存图像\n",
    "fig.savefig(\"widget_image.png\", bbox_inches='tight')\n",
    "\n",
    "# 显示图像\n",
    "display(Image(filename=\"widget_image.png\"))\n"
   ]
  },
  {
   "cell_type": "code",
   "execution_count": null,
   "id": "8",
   "metadata": {},
   "outputs": [],
   "source": [
    "cracker.osc_get_analog_wave(2, 0, 20480)"
   ]
  },
  {
   "cell_type": "code",
   "execution_count": null,
   "id": "9",
   "metadata": {},
   "outputs": [],
   "source": [
    "from cracknuts.jupyter import display_cracknuts_panel\n",
    "\n",
    "cp = display_cracknuts_panel(acq)\n",
    "cp"
   ]
  },
  {
   "cell_type": "code",
   "execution_count": null,
   "id": "10",
   "metadata": {},
   "outputs": [],
   "source": [
    "# 启动运行模式, 在波形监控页面查看波形, 并且在 acq 控制模块展示进度\n",
    "# 默认存储类型 scarr\n",
    "acq.run(1000)\n",
    "# 指定存储类型为 numpy\n",
    "# acq.run(1000, file_format=\"numpy\")"
   ]
  },
  {
   "cell_type": "code",
   "execution_count": null,
   "id": "11",
   "metadata": {},
   "outputs": [],
   "source": [
    "# 启动测试模式, 在波形监控面板启动监视即可展示设备返回的波形\n",
    "acq.test()"
   ]
  },
  {
   "cell_type": "code",
   "execution_count": null,
   "id": "12",
   "metadata": {},
   "outputs": [],
   "source": [
    "# 停止测试/采集模式, 波形监控面板即停止显示波形\n",
    "acq.stop()"
   ]
  },
  {
   "cell_type": "code",
   "execution_count": null,
   "id": "13",
   "metadata": {},
   "outputs": [],
   "source": [
    "# 面板启动监视\n",
    "cp.start_monitor()"
   ]
  },
  {
   "cell_type": "code",
   "execution_count": null,
   "id": "14",
   "metadata": {},
   "outputs": [],
   "source": [
    "# 面板停止监视\n",
    "cp.stop_monitor()"
   ]
  },
  {
   "cell_type": "code",
   "execution_count": null,
   "id": "15",
   "metadata": {},
   "outputs": [],
   "source": [
    "# 通道配置, 启用第二通道后, 波形监控面板将增加一条曲线\n",
    "cracker.osc_set_analog_channel_enable({1: True, 2: True})"
   ]
  },
  {
   "cell_type": "code",
   "execution_count": null,
   "id": "16",
   "metadata": {},
   "outputs": [],
   "source": [
    "cracker.disconnect()"
   ]
  },
  {
   "cell_type": "code",
   "execution_count": null,
   "id": "17",
   "metadata": {},
   "outputs": [],
   "source": [
    "cp.osc_analog_channel2_enable = True\n",
    "# cp.nut_enable=False"
   ]
  },
  {
   "cell_type": "code",
   "execution_count": null,
   "id": "18",
   "metadata": {},
   "outputs": [],
   "source": [
    "cracker.get_current_config().nut_voltage"
   ]
  }
 ],
 "metadata": {
  "kernelspec": {
   "display_name": "Python 3 (ipykernel)",
   "language": "python",
   "name": "python3"
  },
  "language_info": {
   "codemirror_mode": {
    "name": "ipython",
    "version": 3
   },
   "file_extension": ".py",
   "mimetype": "text/x-python",
   "name": "python",
   "nbconvert_exporter": "python",
   "pygments_lexer": "ipython3",
   "version": "3.12.5"
  }
 },
 "nbformat": 4,
 "nbformat_minor": 5
}
