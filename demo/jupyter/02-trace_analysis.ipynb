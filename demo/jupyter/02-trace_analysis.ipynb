{
 "cells": [
  {
   "cell_type": "code",
   "execution_count": null,
   "id": "0",
   "metadata": {},
   "outputs": [],
   "source": [
    "from cracknuts.trace import ScarrTraceDataset\n",
    "# 加载 scarr 格式的数据集\n",
    "ds = ScarrTraceDataset.load(r'D:\\project\\cracknuts\\demo\\jupyter\\dataset\\20250313024458.zarr')\n",
    "# ds = ScarrTraceDataset.load(r'D:\\project\\cracknuts\\demo\\jupyter\\dataset\\20250313022104.zarr')"
   ]
  },
  {
   "cell_type": "code",
   "execution_count": null,
   "id": "1",
   "metadata": {},
   "outputs": [],
   "source": [
    "# Print dataset info\n",
    "ds.info()"
   ]
  },
  {
   "cell_type": "code",
   "execution_count": null,
   "id": "2",
   "metadata": {},
   "outputs": [],
   "source": [
    "# Show trace panel\n",
    "\n",
    "from cracknuts.jupyter import display_trace_panel\n",
    "\n",
    "tp = display_trace_panel(ds)\n",
    "tp"
   ]
  },
  {
   "cell_type": "code",
   "execution_count": null,
   "id": "3",
   "metadata": {},
   "outputs": [],
   "source": [
    "# Change trace index.\n",
    "# show_trace 接收两个索引参数，第一个参数是通道索引，第二个是曲线索引，两个参数支持高级索引\n",
    "# 需要注意的是通道A和B的名称在数据里为0和1，而其索引则根曲线文件中存储的通道数量有关系，如果只有一个通道时，无论哪个通道索引都为0，如果同时有A B两个通道则A通道索引为0，B通道索引为1，可以通过 ds.channel_names 进行确认当前曲线存储的时哪个通道\n",
    "\n",
    "# 展示第一通道的前10条曲线\n",
    "# tp.show_trace[1, :10]\n",
    "# 展示第一通道的后10条曲线\n",
    "# tp.show_trace[1, -10:]\n",
    "# 展示第一通道的 10-20 曲线\n",
    "# tp.show_trace[1, 10:20]\n",
    "# 展示所有(两个)通道的前10条中的偶数位曲线\n",
    "tp.show_trace[:, :10:2]"
   ]
  },
  {
   "cell_type": "code",
   "execution_count": null,
   "id": "4",
   "metadata": {},
   "outputs": [],
   "source": [
    "# 获取第一通道的前10条曲线数据（np.ndarray）\n",
    "ds.trace[1, :10].shape"
   ]
  },
  {
   "cell_type": "code",
   "execution_count": null,
   "id": "5",
   "metadata": {},
   "outputs": [],
   "source": [
    "# 获取第一通道的前10条明文（当前版本该数据包含明文和密文）数据（np.ndarray）\n",
    "ds.plain_text[1, :10].shape"
   ]
  },
  {
   "cell_type": "code",
   "execution_count": null,
   "id": "6",
   "metadata": {},
   "outputs": [],
   "source": [
    "# 加载 numpy 格式 dataset\n",
    "from cracknuts.trace import NumpyTraceDataset\n",
    "\n",
    "ds2 = NumpyTraceDataset.load(r'D:\\project\\cracknuts\\demo\\jupyter\\dataset\\20250313152352.npy')"
   ]
  },
  {
   "cell_type": "code",
   "execution_count": null,
   "id": "7",
   "metadata": {},
   "outputs": [],
   "source": [
    "# 获取第二通道的前10条曲线数据（np.ndarray）\n",
    "ds2.trace[1, :10]"
   ]
  },
  {
   "cell_type": "code",
   "execution_count": null,
   "id": "8",
   "metadata": {},
   "outputs": [],
   "source": [
    "# 获取第二通道的前10条明文（当前版本该数据包含明文和密文）数据（np.ndarray）\n",
    "ds2.plain_text[1, :2]"
   ]
  }
 ],
 "metadata": {
  "kernelspec": {
   "display_name": "Python 3 (ipykernel)",
   "language": "python",
   "name": "python3"
  },
  "language_info": {
   "codemirror_mode": {
    "name": "ipython",
    "version": 3
   },
   "file_extension": ".py",
   "mimetype": "text/x-python",
   "name": "python",
   "nbconvert_exporter": "python",
   "pygments_lexer": "ipython3",
   "version": "3.12.8"
  }
 },
 "nbformat": 4,
 "nbformat_minor": 5
}
