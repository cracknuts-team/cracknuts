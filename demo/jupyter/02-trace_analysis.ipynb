{
 "cells": [
  {
   "cell_type": "code",
   "execution_count": 38,
   "id": "0",
   "metadata": {},
   "outputs": [],
   "source": [
    "from cracknuts.trace import ScarrTraceDataset\n",
    "# 加载 scarr 格式的数据集\n",
    "ds = ScarrTraceDataset.load(r'D:\\work\\ahcc\\90.project\\cracknuts\\demo\\jupyter\\dataset\\20250509174950.zarr')\n",
    "# ds = ScarrTraceDataset.load(r'D:\\project\\cracknuts\\demo\\jupyter\\dataset\\20250313022104.zarr')"
   ]
  },
  {
   "cell_type": "code",
   "execution_count": 39,
   "id": "1",
   "metadata": {},
   "outputs": [
    {
     "data": {
      "text/plain": [
       "Channel: ['1']\n",
       "Trace:   1000, 20480\n",
       "Data:    1000 plaintext: 32 ciphertext: 16 key: 16 extended: None"
      ]
     },
     "execution_count": 39,
     "metadata": {},
     "output_type": "execute_result"
    }
   ],
   "source": [
    "# Print dataset info\n",
    "ds.info()"
   ]
  },
  {
   "cell_type": "code",
   "execution_count": null,
   "id": "2",
   "metadata": {},
   "outputs": [],
   "source": [
    "from zarr.hierarchy import Group\n",
    "\n",
    "x: Group = ds.get_origin_data()[\"/0/0/\"]"
   ]
  },
  {
   "cell_type": "code",
   "execution_count": null,
   "id": "3",
   "metadata": {},
   "outputs": [],
   "source": [
    "# Show trace panel\n",
    "import cracknuts as cn\n",
    "pt = cn.panel_trace()\n",
    "pt.set_trace_dataset(ds)\n",
    "pt"
   ]
  },
  {
   "cell_type": "code",
   "execution_count": null,
   "id": "4",
   "metadata": {},
   "outputs": [],
   "source": [
    "# Change trace index.\n",
    "# show_trace 接收两个索引参数，第一个参数是通道索引，第二个是曲线索引，两个参数支持高级索引\n",
    "# 需要注意的是通道A和B的名称在数据里为0和1，而其索引则根曲线文件中存储的通道数量有关系，如果只有一个通道时，无论哪个通道索引都为0，如果同时有A B两个通道则A通道索引为0，B通道索引为1，可以通过 ds.channel_names 进行确认当前曲线存储的时哪个通道\n",
    "\n",
    "# 展示第一通道的前10条曲线\n",
    "# tp.show_trace[1, :10]\n",
    "# 展示第一通道的后10条曲线\n",
    "# tp.show_trace[1, -10:]\n",
    "# 展示第一通道的 10-20 曲线\n",
    "# tp.show_trace[1, 10:20]\n",
    "# 展示所有(两个)通道的前10条中的偶数位曲线\n",
    "pt.show_trace[:, :10:2]"
   ]
  },
  {
   "cell_type": "code",
   "execution_count": null,
   "id": "5",
   "metadata": {},
   "outputs": [],
   "source": [
    "# 获取第一通道的前10条曲线数据（np.ndarray）\n",
    "ds.trace[0, :10]"
   ]
  },
  {
   "cell_type": "code",
   "execution_count": null,
   "id": "6",
   "metadata": {},
   "outputs": [],
   "source": [
    "# 获取第一通道的前10条明文（当前版本该数据包含明文和密文）\n",
    "ds.data[0, :10]"
   ]
  },
  {
   "cell_type": "code",
   "execution_count": null,
   "id": "7",
   "metadata": {},
   "outputs": [],
   "source": [
    "# 加载 numpy 格式 dataset\n",
    "from cracknuts.trace import NumpyTraceDataset\n",
    "\n",
    "ds2 = NumpyTraceDataset.load(r'D:\\project\\cracknuts\\demo\\jupyter\\dataset\\20250313152352.npy')"
   ]
  },
  {
   "cell_type": "code",
   "execution_count": null,
   "id": "8",
   "metadata": {},
   "outputs": [],
   "source": [
    "# 获取第二通道的前10条曲线数据（np.ndarray）\n",
    "ds2.trace[1, :10]"
   ]
  },
  {
   "cell_type": "code",
   "execution_count": null,
   "id": "9",
   "metadata": {},
   "outputs": [],
   "source": [
    "# 获取第二通道的前10条明文（当前版本该数据包含明文和密文）数据（np.ndarray）\n",
    "ds2.data[1, :2]"
   ]
  },
  {
   "cell_type": "markdown",
   "id": "10",
   "metadata": {},
   "source": [
    "*分析数据*"
   ]
  },
  {
   "cell_type": "code",
   "execution_count": 27,
   "id": "11",
   "metadata": {},
   "outputs": [],
   "source": [
    "from scarr.engines.cpa import CPA as cpa\n",
    "from scarr.file_handling.trace_handler import TraceHandler as th\n",
    "from scarr.model_values.sbox_weight import SboxWeight\n",
    "from scarr.container.container import Container, ContainerOptions\n",
    "import numpy as np\n",
    "from smartcard.util import toHexString"
   ]
  },
  {
   "cell_type": "code",
   "execution_count": 40,
   "id": "12",
   "metadata": {},
   "outputs": [
    {
     "name": "stdout",
     "output_type": "stream",
     "text": [
      "opened zarr file  D:\\work\\ahcc\\90.project\\cracknuts\\demo\\jupyter\\dataset\\20250509174950.zarr\n"
     ]
    }
   ],
   "source": [
    "handler2 = th(fileName=r\"D:\\work\\ahcc\\90.project\\cracknuts\\demo\\jupyter\\dataset\\20250509174950.zarr\") "
   ]
  },
  {
   "cell_type": "code",
   "execution_count": 38,
   "id": "b324ef4c-d285-4685-9822-ae7e25d2f601",
   "metadata": {},
   "outputs": [],
   "source": [
    "from cracknuts.trace import ScarrTraceDataset\n",
    "# 加载 scarr 格式的数据集\n",
    "ds = ScarrTraceDataset.load(r'D:\\work\\ahcc\\90.project\\cracknuts\\demo\\jupyter\\dataset\\20250509174950.zarr')\n",
    "# ds = ScarrTraceDataset.load(r'D:\\project\\cracknuts\\demo\\jupyter\\dataset\\20250313022104.zarr')"
   ]
  },
  {
   "cell_type": "code",
   "execution_count": 29,
   "id": "c8ca12a4-35b5-42ad-96fe-4ad7099249d3",
   "metadata": {},
   "outputs": [
    {
     "data": {
      "application/vnd.jupyter.widget-view+json": {
       "model_id": "2689f49aff50410f892738a866f82e5c",
       "version_major": 2,
       "version_minor": 0
      },
      "text/plain": [
       "Tree(nodes=(Node(disabled=True, name='/', nodes=(Node(disabled=True, name='0', nodes=(Node(disabled=True, name…"
      ]
     },
     "execution_count": 29,
     "metadata": {},
     "output_type": "execute_result"
    }
   ],
   "source": [
    "import zarr\n",
    "\n",
    "z = zarr.open(r'D:\\work\\ahcc\\90.project\\cracknuts\\demo\\jupyter\\dataset\\20250508221320.zarr')\n",
    "\n",
    "z.tree()"
   ]
  },
  {
   "cell_type": "code",
   "execution_count": 30,
   "id": "edece599-1ea6-4f56-9b5a-0924258aee43",
   "metadata": {},
   "outputs": [
    {
     "name": "stdout",
     "output_type": "stream",
     "text": [
      "11 22 33 44 55 66 77 88 99 00 aa bb cc dd ee ff\n"
     ]
    }
   ],
   "source": [
    "print(' '.join(f'{x:02x}' for x in z[\"/0/0/key\"][0]))"
   ]
  },
  {
   "cell_type": "code",
   "execution_count": 31,
   "id": "8c35855f-77cc-4abe-981a-f2e1fe3653f5",
   "metadata": {},
   "outputs": [
    {
     "name": "stdout",
     "output_type": "stream",
     "text": [
      "7e 1f 38 5a e4 71 25 04 bc f7 8d 70 11 bb 8f 28\n"
     ]
    }
   ],
   "source": [
    "print(' '.join(f'{x:02x}' for x in z[\"/0/0/plaintext\"][0]))"
   ]
  },
  {
   "cell_type": "code",
   "execution_count": 41,
   "id": "13",
   "metadata": {},
   "outputs": [],
   "source": [
    "model = SboxWeight() \n",
    "engine2 = cpa(model)"
   ]
  },
  {
   "cell_type": "code",
   "execution_count": 42,
   "id": "14",
   "metadata": {},
   "outputs": [],
   "source": [
    "container2 = Container(options=ContainerOptions(engine=engine2, handler=handler2), model_positions = [x for x in range(16)])\n",
    "container2.run()"
   ]
  },
  {
   "cell_type": "code",
   "execution_count": 43,
   "id": "15",
   "metadata": {},
   "outputs": [],
   "source": [
    "results2 = container2.engine.get_result()"
   ]
  },
  {
   "cell_type": "code",
   "execution_count": 44,
   "id": "16",
   "metadata": {},
   "outputs": [],
   "source": [
    "results = np.squeeze(engine2.get_candidate())"
   ]
  },
  {
   "cell_type": "code",
   "execution_count": 45,
   "id": "17",
   "metadata": {},
   "outputs": [
    {
     "data": {
      "text/plain": [
       "'11 22 33 44 55 66 77 88 99 00 AA BB CC DD EE FF'"
      ]
     },
     "execution_count": 45,
     "metadata": {},
     "output_type": "execute_result"
    }
   ],
   "source": [
    "toHexString(list(results))"
   ]
  },
  {
   "cell_type": "code",
   "execution_count": 8,
   "id": "18",
   "metadata": {},
   "outputs": [],
   "source": [
    "result = np.squeeze(results2)\n",
    "result = result[0]"
   ]
  },
  {
   "cell_type": "code",
   "execution_count": 9,
   "id": "19",
   "metadata": {},
   "outputs": [],
   "source": [
    "candidate = [None for _ in range(result.shape[0])]\n",
    "\n",
    "for i in range(result.shape[0]):\n",
    "    candidate[i] = np.unravel_index(np.abs(result[i, :]).argmax(), result[i, :].shape[0:])[0]"
   ]
  },
  {
   "cell_type": "code",
   "execution_count": 10,
   "id": "20",
   "metadata": {},
   "outputs": [],
   "source": [
    "candidates = np.empty(256, dtype=np.float64)\n",
    "for k in range(256):\n",
    "    candidates[k] = result[k,candidate[k]]\n",
    "ck = np.abs(candidates).argmax()"
   ]
  },
  {
   "cell_type": "code",
   "execution_count": 11,
   "id": "21",
   "metadata": {},
   "outputs": [
    {
     "name": "stdout",
     "output_type": "stream",
     "text": [
      "第 1 个候选值： 0x84 ， 对应的相关系数为： 0.4498041570186615\n",
      "第 2 个候选值： 0x30 ， 对应的相关系数为： -0.44673195481300354\n",
      "第 3 个候选值： 0x56 ， 对应的相关系数为： -0.4383695125579834\n",
      "第 4 个候选值： 0xd3 ， 对应的相关系数为： 0.431272029876709\n",
      "第 5 个候选值： 0x6e ， 对应的相关系数为： 0.4298516511917114\n",
      "第 6 个候选值： 0xe5 ， 对应的相关系数为： 0.4277685582637787\n",
      "第 7 个候选值： 0xc4 ， 对应的相关系数为： -0.42412635684013367\n",
      "第 8 个候选值： 0x72 ， 对应的相关系数为： -0.42084071040153503\n",
      "第 9 个候选值： 0xe ， 对应的相关系数为： -0.41936182975769043\n",
      "第 10 个候选值： 0xb6 ， 对应的相关系数为： -0.4181382954120636\n"
     ]
    }
   ],
   "source": [
    "for _i in range(0, 10):\n",
    "    print('第',str(_i+1),'个候选值：',hex(np.abs(candidates).argsort()[::-1][_i]),'， 对应的相关系数为：',str(candidates[np.abs(candidates).argsort()[::-1][_i]]))"
   ]
  },
  {
   "cell_type": "code",
   "execution_count": 12,
   "id": "22",
   "metadata": {},
   "outputs": [],
   "source": [
    "backgroud_numpy = np.delete(results2[0, 0, 0, :, :3000], 123, axis=0)"
   ]
  },
  {
   "cell_type": "code",
   "execution_count": 13,
   "id": "23",
   "metadata": {},
   "outputs": [],
   "source": [
    "heighlight_numpy = results2[0, 0, 0, 0x11, :3000][np.newaxis, :]"
   ]
  },
  {
   "cell_type": "code",
   "execution_count": 14,
   "id": "24",
   "metadata": {},
   "outputs": [
    {
     "data": {
      "text/plain": [
       "(256, 3000)"
      ]
     },
     "execution_count": 14,
     "metadata": {},
     "output_type": "execute_result"
    }
   ],
   "source": [
    "results2[0, 0, 0, :, :3000].shape"
   ]
  },
  {
   "cell_type": "code",
   "execution_count": 15,
   "id": "25",
   "metadata": {},
   "outputs": [],
   "source": [
    "np.save('./rs.npy', results2[0, 0, 0, :, :3000])"
   ]
  },
  {
   "cell_type": "code",
   "execution_count": 16,
   "id": "26",
   "metadata": {},
   "outputs": [],
   "source": [
    "result_numpy = np.vstack([backgroud_numpy, heighlight_numpy])"
   ]
  },
  {
   "cell_type": "code",
   "execution_count": 17,
   "id": "27",
   "metadata": {},
   "outputs": [
    {
     "data": {
      "text/plain": [
       "(256, 3000)"
      ]
     },
     "execution_count": 17,
     "metadata": {},
     "output_type": "execute_result"
    }
   ],
   "source": [
    "result_numpy.shape"
   ]
  },
  {
   "cell_type": "code",
   "execution_count": 18,
   "id": "28",
   "metadata": {},
   "outputs": [
    {
     "ename": "NameError",
     "evalue": "name 'cn' is not defined",
     "output_type": "error",
     "traceback": [
      "\u001b[31m---------------------------------------------------------------------------\u001b[39m",
      "\u001b[31mNameError\u001b[39m                                 Traceback (most recent call last)",
      "\u001b[36mCell\u001b[39m\u001b[36m \u001b[39m\u001b[32mIn[18]\u001b[39m\u001b[32m, line 1\u001b[39m\n\u001b[32m----> \u001b[39m\u001b[32m1\u001b[39m pt2 = \u001b[43mcn\u001b[49m.panel_trace()\n\u001b[32m      2\u001b[39m pt2.set_numpy_data(result_numpy)\n\u001b[32m      3\u001b[39m pt2\n",
      "\u001b[31mNameError\u001b[39m: name 'cn' is not defined"
     ]
    }
   ],
   "source": [
    "pt2 = cn.panel_trace()\n",
    "pt2.set_numpy_data(result_numpy)\n",
    "pt2"
   ]
  },
  {
   "cell_type": "code",
   "execution_count": 19,
   "id": "29",
   "metadata": {},
   "outputs": [
    {
     "ename": "NameError",
     "evalue": "name 'pt2' is not defined",
     "output_type": "error",
     "traceback": [
      "\u001b[31m---------------------------------------------------------------------------\u001b[39m",
      "\u001b[31mNameError\u001b[39m                                 Traceback (most recent call last)",
      "\u001b[36mCell\u001b[39m\u001b[36m \u001b[39m\u001b[32mIn[19]\u001b[39m\u001b[32m, line 1\u001b[39m\n\u001b[32m----> \u001b[39m\u001b[32m1\u001b[39m \u001b[43mpt2\u001b[49m.show_all_trace()\n",
      "\u001b[31mNameError\u001b[39m: name 'pt2' is not defined"
     ]
    }
   ],
   "source": [
    "pt2.show_all_trace()"
   ]
  },
  {
   "cell_type": "code",
   "execution_count": null,
   "id": "30",
   "metadata": {},
   "outputs": [],
   "source": [
    "pt2.highlight([0x11])"
   ]
  },
  {
   "cell_type": "code",
   "execution_count": null,
   "id": "31",
   "metadata": {},
   "outputs": [],
   "source": [
    "pt2.change_percent_range(0, 100)"
   ]
  },
  {
   "cell_type": "code",
   "execution_count": null,
   "id": "32",
   "metadata": {},
   "outputs": [],
   "source": [
    "pt2.change_range(1000, 1500)"
   ]
  }
 ],
 "metadata": {
  "kernelspec": {
   "display_name": "Python 3 (ipykernel)",
   "language": "python",
   "name": "python3"
  },
  "language_info": {
   "codemirror_mode": {
    "name": "ipython",
    "version": 3
   },
   "file_extension": ".py",
   "mimetype": "text/x-python",
   "name": "python",
   "nbconvert_exporter": "python",
   "pygments_lexer": "ipython3",
   "version": "3.12.10"
  }
 },
 "nbformat": 4,
 "nbformat_minor": 5
}
