{
 "cells": [
  {
   "cell_type": "code",
   "execution_count": null,
   "id": "0",
   "metadata": {},
   "outputs": [],
   "source": [
    "from cracknuts.trace import ScarrTraceDataset\n",
    "# 加载 scarr 格式的数据集\n",
    "ds = ScarrTraceDataset.load(r'D:\\project\\cracknuts\\demo\\jupyter\\dataset\\20250507110424.zarr')\n",
    "# ds = ScarrTraceDataset.load(r'D:\\project\\cracknuts\\demo\\jupyter\\dataset\\20250313022104.zarr')"
   ]
  },
  {
   "cell_type": "code",
   "execution_count": null,
   "id": "1",
   "metadata": {},
   "outputs": [],
   "source": [
    "# Print dataset info\n",
    "ds.info()"
   ]
  },
  {
   "cell_type": "code",
   "execution_count": null,
   "id": "2",
   "metadata": {},
   "outputs": [],
   "source": [
    "from zarr.hierarchy import Group\n",
    "\n",
    "x: Group = ds.get_origin_data()[\"/0/0/\"]"
   ]
  },
  {
   "cell_type": "code",
   "execution_count": null,
   "id": "3",
   "metadata": {},
   "outputs": [],
   "source": [
    "# Show trace panel\n",
    "import cracknuts as cn\n",
    "pt = cn.panel_trace()\n",
    "pt.set_trace_dataset(ds)\n",
    "pt"
   ]
  },
  {
   "cell_type": "code",
   "execution_count": null,
   "id": "4",
   "metadata": {},
   "outputs": [],
   "source": [
    "# Change trace index.\n",
    "# show_trace 接收两个索引参数，第一个参数是通道索引，第二个是曲线索引，两个参数支持高级索引\n",
    "# 需要注意的是通道A和B的名称在数据里为0和1，而其索引则根曲线文件中存储的通道数量有关系，如果只有一个通道时，无论哪个通道索引都为0，如果同时有A B两个通道则A通道索引为0，B通道索引为1，可以通过 ds.channel_names 进行确认当前曲线存储的时哪个通道\n",
    "\n",
    "# 展示第一通道的前10条曲线\n",
    "# tp.show_trace[1, :10]\n",
    "# 展示第一通道的后10条曲线\n",
    "# tp.show_trace[1, -10:]\n",
    "# 展示第一通道的 10-20 曲线\n",
    "# tp.show_trace[1, 10:20]\n",
    "# 展示所有(两个)通道的前10条中的偶数位曲线\n",
    "pt.show_trace[:, :10:2]"
   ]
  },
  {
   "cell_type": "code",
   "execution_count": null,
   "id": "5",
   "metadata": {},
   "outputs": [],
   "source": [
    "# 获取第一通道的前10条曲线数据（np.ndarray）\n",
    "ds.trace[0, :10]"
   ]
  },
  {
   "cell_type": "code",
   "execution_count": null,
   "id": "6",
   "metadata": {},
   "outputs": [],
   "source": [
    "# 获取第一通道的前10条明文（当前版本该数据包含明文和密文）\n",
    "ds.data[0, :10]"
   ]
  },
  {
   "cell_type": "code",
   "execution_count": null,
   "id": "7",
   "metadata": {},
   "outputs": [],
   "source": [
    "# 加载 numpy 格式 dataset\n",
    "from cracknuts.trace import NumpyTraceDataset\n",
    "\n",
    "ds2 = NumpyTraceDataset.load(r'D:\\project\\cracknuts\\demo\\jupyter\\dataset\\20250313152352.npy')"
   ]
  },
  {
   "cell_type": "code",
   "execution_count": null,
   "id": "8",
   "metadata": {},
   "outputs": [],
   "source": [
    "# 获取第二通道的前10条曲线数据（np.ndarray）\n",
    "ds2.trace[1, :10]"
   ]
  },
  {
   "cell_type": "code",
   "execution_count": null,
   "id": "9",
   "metadata": {},
   "outputs": [],
   "source": [
    "# 获取第二通道的前10条明文（当前版本该数据包含明文和密文）数据（np.ndarray）\n",
    "ds2.data[1, :2]"
   ]
  },
  {
   "cell_type": "markdown",
   "id": "10",
   "metadata": {},
   "source": [
    "*分析数据*"
   ]
  },
  {
   "cell_type": "code",
   "execution_count": null,
   "id": "11",
   "metadata": {},
   "outputs": [],
   "source": [
    "from scarr.engines.cpa import CPA as cpa\n",
    "from scarr.file_handling.trace_handler import TraceHandler as th\n",
    "from scarr.model_values.sbox_weight import SboxWeight\n",
    "from scarr.container.container import Container, ContainerOptions\n",
    "import numpy as np\n",
    "from smartcard.util import toHexString"
   ]
  },
  {
   "cell_type": "code",
   "execution_count": null,
   "id": "12",
   "metadata": {},
   "outputs": [],
   "source": [
    "handler2 = th(fileName=r'D:\\project\\cracknuts\\tests\\dataset\\20250415154328.zarr') "
   ]
  },
  {
   "cell_type": "code",
   "execution_count": null,
   "id": "13",
   "metadata": {},
   "outputs": [],
   "source": [
    "model = SboxWeight() \n",
    "engine2 = cpa(model)"
   ]
  },
  {
   "cell_type": "code",
   "execution_count": null,
   "id": "14",
   "metadata": {},
   "outputs": [],
   "source": [
    "container2 = Container(options=ContainerOptions(engine=engine2, handler=handler2), model_positions = [x for x in range(16)])\n",
    "container2.run()"
   ]
  },
  {
   "cell_type": "code",
   "execution_count": null,
   "id": "15",
   "metadata": {},
   "outputs": [],
   "source": [
    "results2 = container2.engine.get_result()"
   ]
  },
  {
   "cell_type": "code",
   "execution_count": null,
   "id": "16",
   "metadata": {},
   "outputs": [],
   "source": [
    "results = np.squeeze(engine2.get_candidate())"
   ]
  },
  {
   "cell_type": "code",
   "execution_count": null,
   "id": "17",
   "metadata": {},
   "outputs": [],
   "source": [
    "toHexString(list(results))"
   ]
  },
  {
   "cell_type": "code",
   "execution_count": null,
   "id": "18",
   "metadata": {},
   "outputs": [],
   "source": [
    "result = np.squeeze(results2)\n",
    "result = result[0]"
   ]
  },
  {
   "cell_type": "code",
   "execution_count": null,
   "id": "19",
   "metadata": {},
   "outputs": [],
   "source": [
    "candidate = [None for _ in range(result.shape[0])]\n",
    "\n",
    "for i in range(result.shape[0]):\n",
    "    candidate[i] = np.unravel_index(np.abs(result[i, :]).argmax(), result[i, :].shape[0:])[0]"
   ]
  },
  {
   "cell_type": "code",
   "execution_count": null,
   "id": "20",
   "metadata": {},
   "outputs": [],
   "source": [
    "candidates = np.empty(256, dtype=np.float64)\n",
    "for k in range(256):\n",
    "    candidates[k] = result[k,candidate[k]]\n",
    "ck = np.abs(candidates).argmax()"
   ]
  },
  {
   "cell_type": "code",
   "execution_count": null,
   "id": "21",
   "metadata": {},
   "outputs": [],
   "source": [
    "for _i in range(0, 10):\n",
    "    print('第',str(_i+1),'个候选值：',hex(np.abs(candidates).argsort()[::-1][_i]),'， 对应的相关系数为：',str(candidates[np.abs(candidates).argsort()[::-1][_i]]))"
   ]
  },
  {
   "cell_type": "code",
   "execution_count": null,
   "id": "22",
   "metadata": {},
   "outputs": [],
   "source": [
    "backgroud_numpy = np.delete(results2[0, 0, 0, :, :3000], 123, axis=0)"
   ]
  },
  {
   "cell_type": "code",
   "execution_count": null,
   "id": "23",
   "metadata": {},
   "outputs": [],
   "source": [
    "heighlight_numpy = results2[0, 0, 0, 0x11, :3000][np.newaxis, :]"
   ]
  },
  {
   "cell_type": "code",
   "execution_count": null,
   "id": "24",
   "metadata": {},
   "outputs": [],
   "source": [
    "results2[0, 0, 0, :, :3000].shape"
   ]
  },
  {
   "cell_type": "code",
   "execution_count": null,
   "id": "25",
   "metadata": {},
   "outputs": [],
   "source": [
    "np.save('./rs.npy', results2[0, 0, 0, :, :3000])"
   ]
  },
  {
   "cell_type": "code",
   "execution_count": null,
   "id": "26",
   "metadata": {},
   "outputs": [],
   "source": [
    "result_numpy = np.vstack([backgroud_numpy, heighlight_numpy])"
   ]
  },
  {
   "cell_type": "code",
   "execution_count": null,
   "id": "27",
   "metadata": {},
   "outputs": [],
   "source": [
    "result_numpy.shape"
   ]
  },
  {
   "cell_type": "code",
   "execution_count": null,
   "id": "28",
   "metadata": {},
   "outputs": [],
   "source": [
    "pt2 = cn.panel_trace()\n",
    "pt2.set_numpy_data(result_numpy)\n",
    "pt2"
   ]
  },
  {
   "cell_type": "code",
   "execution_count": null,
   "id": "29",
   "metadata": {},
   "outputs": [],
   "source": [
    "pt2.show_all_trace()"
   ]
  },
  {
   "cell_type": "code",
   "execution_count": null,
   "id": "30",
   "metadata": {},
   "outputs": [],
   "source": [
    "pt2.highlight([0x11])"
   ]
  },
  {
   "cell_type": "code",
   "execution_count": null,
   "id": "31",
   "metadata": {},
   "outputs": [],
   "source": [
    "pt2.change_percent_range(0, 100)"
   ]
  },
  {
   "cell_type": "code",
   "execution_count": null,
   "id": "32",
   "metadata": {},
   "outputs": [],
   "source": [
    "pt2.change_range(1000, 1500)"
   ]
  }
 ],
 "metadata": {
  "kernelspec": {
   "display_name": ".venv",
   "language": "python",
   "name": "python3"
  },
  "language_info": {
   "codemirror_mode": {
    "name": "ipython",
    "version": 3
   },
   "file_extension": ".py",
   "mimetype": "text/x-python",
   "name": "python",
   "nbconvert_exporter": "python",
   "pygments_lexer": "ipython3",
   "version": "3.12.5"
  }
 },
 "nbformat": 4,
 "nbformat_minor": 5
}
