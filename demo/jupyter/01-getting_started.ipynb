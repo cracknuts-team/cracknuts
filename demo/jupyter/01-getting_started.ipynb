{
 "cells": [
  {
   "cell_type": "code",
   "execution_count": 1,
   "id": "0",
   "metadata": {},
   "outputs": [],
   "source": [
    "import cracknuts as cn"
   ]
  },
  {
   "cell_type": "code",
   "execution_count": 2,
   "id": "1",
   "metadata": {},
   "outputs": [],
   "source": [
    "cracker = cn.new_cracker('192.168.0.251')"
   ]
  },
  {
   "cell_type": "code",
   "execution_count": 3,
   "id": "2",
   "metadata": {},
   "outputs": [],
   "source": [
    "cracker.connect() # 连接设备"
   ]
  },
  {
   "cell_type": "code",
   "execution_count": 4,
   "id": "84f583f0-bfd4-4836-ab17-20f2b01b71f6",
   "metadata": {},
   "outputs": [
    {
     "data": {
      "text/plain": [
       "True"
      ]
     },
     "execution_count": 4,
     "metadata": {},
     "output_type": "execute_result"
    }
   ],
   "source": [
    "cracker.get_operator().connect()"
   ]
  },
  {
   "cell_type": "code",
   "execution_count": 5,
   "id": "3",
   "metadata": {},
   "outputs": [
    {
     "data": {
      "text/plain": [
       "(0, 'unknown')"
      ]
     },
     "execution_count": 5,
     "metadata": {},
     "output_type": "execute_result"
    }
   ],
   "source": [
    "cracker.get_id() # 获取设备ID"
   ]
  },
  {
   "cell_type": "code",
   "execution_count": 6,
   "id": "4",
   "metadata": {},
   "outputs": [
    {
     "ename": "AttributeError",
     "evalue": "'CrackerS1' object has no attribute 'get_name'",
     "output_type": "error",
     "traceback": [
      "\u001b[1;31m---------------------------------------------------------------------------\u001b[0m",
      "\u001b[1;31mAttributeError\u001b[0m                            Traceback (most recent call last)",
      "Cell \u001b[1;32mIn[6], line 1\u001b[0m\n\u001b[1;32m----> 1\u001b[0m \u001b[43mcracker\u001b[49m\u001b[38;5;241;43m.\u001b[39;49m\u001b[43mget_name\u001b[49m() \u001b[38;5;66;03m# 获取设备名称\u001b[39;00m\n",
      "\u001b[1;31mAttributeError\u001b[0m: 'CrackerS1' object has no attribute 'get_name'"
     ]
    }
   ],
   "source": [
    "cracker.get_hwardware() # 获取设备名称"
   ]
  },
  {
   "cell_type": "code",
   "execution_count": null,
   "id": "5",
   "metadata": {},
   "outputs": [],
   "source": [
    "cracker.get_version() # 获取设备版本信息"
   ]
  },
  {
   "cell_type": "code",
   "execution_count": null,
   "id": "6",
   "metadata": {},
   "outputs": [],
   "source": [
    "import random\n",
    "import time\n",
    "from enum import Enum\n",
    "\n",
    "\n",
    "class AlgType(Enum):  # Algrithom type\n",
    "    AES_ENC = 1\n",
    "    AES_DEC = 2\n",
    "    DES_ENC = 3\n",
    "    DES_DEC = 4\n",
    "\n",
    "sample_length = 1024 * 20\n",
    "alg = AlgType.AES_ENC # 修改这个值改变算法\n",
    "# alg = AlgType.DES_ENC # 修改这个值改变算法\n",
    "\n",
    "# AES Command\n",
    "cmd_set_aes_enc_key = \"01 00 00 00 00 00 00 10\"\n",
    "cmd_set_aes_dec_key = \"01 01 00 00 00 00 00 10\"\n",
    "cmd_aes_enc = \"01 02 00 00 00 00 00 10\"\n",
    "cmd_aes_dec = \"01 03 00 00 00 00 00 10\"\n",
    "aes_key = \"11 22 33 44 55 66 77 88 99 00 aa bb cc dd ee ff\"\n",
    "aes_data_len = 16\n",
    "\n",
    "# DES Command\n",
    "cmd_set_des_enc_key = \"02 00 00 00 00 00 00 08\"\n",
    "cmd_set_des_dec_key = \"02 01 00 00 00 00 00 08\"\n",
    "cmd_des_enc = \"02 02 00 00 00 00 00 08\"\n",
    "cmd_des_dec = \"02 03 00 00 00 00 00 08\"\n",
    "des_key = \"12 34 56 78 90 ab cd ef\"\n",
    "des_data_len = 8\n",
    "\n",
    "\n",
    "def init(c):\n",
    "    cracker.nut_voltage_disable()\n",
    "    cracker.nut_clock_disable()\n",
    "    time.sleep(1)\n",
    "    cracker.nut_clock_freq('8M')\n",
    "    cracker.nut_clock_enable()\n",
    "    time.sleep(0.1)\n",
    "    cracker.nut_voltage_mv(3400)\n",
    "    cracker.nut_voltage_enable()\n",
    "    cracker.uart_enable()\n",
    "    cracker.osc_sample_clock_rate('48m')\n",
    "    cracker.osc_sample_len(sample_length)\n",
    "    if alg is AlgType.AES_ENC:\n",
    "        cmd = cmd_set_aes_enc_key + aes_key\n",
    "    elif alg is AlgType.AES_DEC:\n",
    "        cmd = cmd_set_aes_dec_key + aes_key\n",
    "    elif alg is AlgType.DES_ENC:\n",
    "        cmd = cmd_set_des_enc_key + des_key\n",
    "    else:\n",
    "        cmd = cmd_set_des_dec_key + des_key\n",
    "\n",
    "    status, ret = cracker.uart_transmit_receive(cmd, timeout=1000, rx_count=6)\n",
    "\n",
    "def do(c):\n",
    "\n",
    "    if alg is AlgType.AES_ENC:\n",
    "        cmd = cmd_aes_enc\n",
    "        data_len = aes_data_len\n",
    "    elif alg is AlgType.AES_DEC:\n",
    "        cmd = cmd_aes_dec\n",
    "        data_len = aes_data_len\n",
    "    elif alg is AlgType.DES_ENC:\n",
    "        cmd = cmd_des_enc\n",
    "        data_len = des_data_len\n",
    "    else:\n",
    "        cmd = cmd_des_dec\n",
    "        data_len = des_data_len\n",
    "\n",
    "    # convert cmd to bytes\n",
    "    cmd = cmd.replace(' ', '')\n",
    "    cmd = bytes.fromhex(cmd)\n",
    "\n",
    "    if alg is AlgType.AES_ENC or alg is AlgType.AES_DEC:\n",
    "        data = random.randbytes(aes_data_len)\n",
    "    else:\n",
    "        data = random.randbytes(des_data_len)\n",
    "\n",
    "    d = cmd + data\n",
    "    # print(d.hex())\n",
    "\n",
    "    if alg is AlgType.AES_ENC or alg is AlgType.AES_DEC:\n",
    "        status, ret = cracker.uart_transmit_receive(d, rx_count= 6 + aes_data_len, is_trigger=True)\n",
    "        return data + ret[-aes_data_len:]\n",
    "    else:\n",
    "        status, ret = cracker.uart_transmit_receive(d, rx_count=6 + des_data_len, is_trigger=True)\n",
    "        return data + ret[-des_data_len:]\n",
    "\n",
    "\n",
    "acq = cn.new_acquisition(cracker, do=do, init=init, data_length=aes_data_len * 2 if alg is AlgType.AES_ENC else des_data_len * 2)"
   ]
  },
  {
   "cell_type": "code",
   "execution_count": null,
   "id": "7",
   "metadata": {},
   "outputs": [],
   "source": [
    "cn.panel(acq)"
   ]
  },
  {
   "cell_type": "code",
   "execution_count": null,
   "id": "8",
   "metadata": {},
   "outputs": [],
   "source": [
    "# 显示曲线分析面板\n",
    "tap = cn.panel_trace()\n",
    "tap"
   ]
  },
  {
   "cell_type": "code",
   "execution_count": null,
   "id": "9",
   "metadata": {},
   "outputs": [],
   "source": [
    "# 引入波形文件数据集对象\n",
    "from cracknuts.trace.trace import ScarrTraceDataset\n",
    "# 加载波形文件\n",
    "scarr_trace_dataset = ScarrTraceDataset.load(\"dataset/20250213143033.zarr\")\n",
    "# 将数据集配置到波形显示面板\n",
    "tap.set_trace_dataset(scarr_trace_dataset)\n",
    "# 显示第二通道的前十条曲线\n",
    "tap.show_trace[0, :10]"
   ]
  }
 ],
 "metadata": {
  "kernelspec": {
   "display_name": "Python 3 (ipykernel)",
   "language": "python",
   "name": "python3"
  },
  "language_info": {
   "codemirror_mode": {
    "name": "ipython",
    "version": 3
   },
   "file_extension": ".py",
   "mimetype": "text/x-python",
   "name": "python",
   "nbconvert_exporter": "python",
   "pygments_lexer": "ipython3",
   "version": "3.12.8"
  }
 },
 "nbformat": 4,
 "nbformat_minor": 5
}
