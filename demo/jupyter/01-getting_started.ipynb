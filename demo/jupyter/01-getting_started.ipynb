{
 "cells": [
  {
   "cell_type": "code",
   "execution_count": 1,
   "id": "0",
   "metadata": {},
   "outputs": [],
   "source": [
    "import cracknuts as cn"
   ]
  },
  {
   "cell_type": "code",
   "execution_count": null,
   "id": "1",
   "metadata": {},
   "outputs": [],
   "source": [
    "cracker = cn.new_cracker('192.168.0.11')\n",
    "# cracker = cn.new_cracker('localhost')"
   ]
  },
  {
   "cell_type": "code",
   "execution_count": null,
   "id": "2",
   "metadata": {},
   "outputs": [],
   "source": [
    "cracker.connect() # 连接设备"
   ]
  },
  {
   "cell_type": "code",
   "execution_count": null,
   "id": "3",
   "metadata": {},
   "outputs": [],
   "source": [
    "cracker.get_operator().connect()"
   ]
  },
  {
   "cell_type": "code",
   "execution_count": null,
   "id": "4",
   "metadata": {},
   "outputs": [],
   "source": [
    "cracker.get_id() # 获取设备ID"
   ]
  },
  {
   "cell_type": "code",
   "execution_count": null,
   "id": "5",
   "metadata": {},
   "outputs": [],
   "source": [
    "import random\n",
    "import time\n",
    "from enum import Enum\n",
    "\n",
    "\n",
    "class AlgType(Enum):  # Algrithom type\n",
    "    AES_ENC = 1\n",
    "    AES_DEC = 2\n",
    "    DES_ENC = 3\n",
    "    DES_DEC = 4\n",
    "\n",
    "sample_length = 1024 * 20\n",
    "alg = AlgType.AES_ENC # 修改这个值改变算法\n",
    "# alg = AlgType.DES_ENC # 修改这个值改变算法\n",
    "\n",
    "# AES Command\n",
    "cmd_set_aes_enc_key = \"01 00 00 00 00 00 00 10\"\n",
    "cmd_set_aes_dec_key = \"01 01 00 00 00 00 00 10\"\n",
    "cmd_aes_enc = \"01 02 00 00 00 00 00 10\"\n",
    "cmd_aes_dec = \"01 03 00 00 00 00 00 10\"\n",
    "aes_key = \"11 22 33 44 55 66 77 88 99 00 aa bb cc dd ee ff\"\n",
    "aes_data_len = 16\n",
    "\n",
    "# DES Command\n",
    "cmd_set_des_enc_key = \"02 00 00 00 00 00 00 08\"\n",
    "cmd_set_des_dec_key = \"02 01 00 00 00 00 00 08\"\n",
    "cmd_des_enc = \"02 02 00 00 00 00 00 08\"\n",
    "cmd_des_dec = \"02 03 00 00 00 00 00 08\"\n",
    "des_key = \"12 34 56 78 90 ab cd ef\"\n",
    "des_data_len = 8\n",
    "\n",
    "\n",
    "def init(c):\n",
    "    cracker.nut_voltage_disable()\n",
    "    cracker.nut_clock_disable()\n",
    "    time.sleep(1)\n",
    "    cracker.nut_clock_freq('8M')\n",
    "    cracker.nut_clock_enable()\n",
    "    time.sleep(0.1)\n",
    "    cracker.nut_voltage(3.4)\n",
    "    cracker.nut_voltage_enable()\n",
    "    cracker.uart_enable()\n",
    "    cracker.osc_sample_clock('48m')\n",
    "    cracker.osc_sample_length(sample_length)\n",
    "    if alg is AlgType.AES_ENC:\n",
    "        cmd = cmd_set_aes_enc_key + aes_key\n",
    "    elif alg is AlgType.AES_DEC:\n",
    "        cmd = cmd_set_aes_dec_key + aes_key\n",
    "    elif alg is AlgType.DES_ENC:\n",
    "        cmd = cmd_set_des_enc_key + des_key\n",
    "    else:\n",
    "        cmd = cmd_set_des_dec_key + des_key\n",
    "\n",
    "    status, ret = cracker.uart_transmit_receive(cmd, timeout=1000, rx_count=6)\n",
    "\n",
    "def do(c):\n",
    "\n",
    "    if alg is AlgType.AES_ENC:\n",
    "        cmd = cmd_aes_enc\n",
    "        data_len = aes_data_len\n",
    "    elif alg is AlgType.AES_DEC:\n",
    "        cmd = cmd_aes_dec\n",
    "        data_len = aes_data_len\n",
    "    elif alg is AlgType.DES_ENC:\n",
    "        cmd = cmd_des_enc\n",
    "        data_len = des_data_len\n",
    "    else:\n",
    "        cmd = cmd_des_dec\n",
    "        data_len = des_data_len\n",
    "\n",
    "    # convert cmd to bytes\n",
    "    cmd = cmd.replace(' ', '')\n",
    "    cmd = bytes.fromhex(cmd)\n",
    "\n",
    "    if alg is AlgType.AES_ENC or alg is AlgType.AES_DEC:\n",
    "        data = random.randbytes(aes_data_len)\n",
    "    else:\n",
    "        data = random.randbytes(des_data_len)\n",
    "\n",
    "    d = cmd + data\n",
    "    # print(d.hex())\n",
    "\n",
    "    if alg is AlgType.AES_ENC or alg is AlgType.AES_DEC:\n",
    "        status, ret = cracker.uart_transmit_receive(d, rx_count= 6 + aes_data_len, is_trigger=True)\n",
    "        return {\n",
    "            \"plaintext\": data+ ret[-aes_data_len:],\n",
    "            \"ciphertext\": ret[-aes_data_len:],\n",
    "            \"key\": bytes.fromhex(aes_key)\n",
    "        }\n",
    "    else:\n",
    "        status, ret = cracker.uart_transmit_receive(d, rx_count=6 + des_data_len, is_trigger=True)\n",
    "        return {\n",
    "            \"plaintext\": data+ret[-aes_data_len:],\n",
    "            \"ciphertext\": ret[-aes_data_len:],\n",
    "            \"key\": bytes.fromhex(des_key)\n",
    "        }\n",
    "\n",
    "\n",
    "acq = cn.new_acquisition(cracker, do=do, init=init)"
   ]
  },
  {
   "cell_type": "code",
   "execution_count": null,
   "id": "6",
   "metadata": {},
   "outputs": [],
   "source": [
    "cn.panel(acq)"
   ]
  },
  {
   "cell_type": "code",
   "execution_count": 2,
   "id": "7",
   "metadata": {},
   "outputs": [
    {
     "data": {
      "application/vnd.jupyter.widget-view+json": {
       "model_id": "df056c6933a64e00bc5450fcc36972c4",
       "version_major": 2,
       "version_minor": 1
      },
      "text/plain": [
       "TracePanelWidget(chart_size={'width': 0, 'height': 0}, language='zh', overview_select_range=(0, 0), overview_t…"
      ]
     },
     "execution_count": 2,
     "metadata": {},
     "output_type": "execute_result"
    }
   ],
   "source": [
    "# 显示曲线分析面板\n",
    "tap = cn.panel_trace()\n",
    "tap"
   ]
  },
  {
   "cell_type": "code",
   "execution_count": null,
   "id": "8",
   "metadata": {},
   "outputs": [],
   "source": [
    "# 引入波形文件数据集对象\n",
    "from cracknuts.trace.trace import ScarrTraceDataset\n",
    "# 加载波形文件\n",
    "scarr_trace_dataset = ScarrTraceDataset.load(r\"D:\\work\\ahcc\\90.project\\cracknuts\\demo\\jupyter\\dataset\\20250508221320.zarr\")\n",
    "# 将数据集配置到波形显示面板\n",
    "tap.set_trace_dataset(scarr_trace_dataset)\n",
    "# 显示第二通道的前十条曲线\n",
    "tap.show_trace[0, :10]"
   ]
  },
  {
   "cell_type": "code",
   "execution_count": null,
   "id": "9",
   "metadata": {},
   "outputs": [],
   "source": [
    "20250509182238"
   ]
  },
  {
   "cell_type": "code",
   "execution_count": 3,
   "id": "ffd19838-4950-4faf-886f-f28636ce56e0",
   "metadata": {},
   "outputs": [],
   "source": [
    "# 引入波形文件数据集对象\n",
    "from cracknuts.trace.trace import NumpyTraceDataset\n",
    "# 加载波形文件\n",
    "scarr_trace_dataset = NumpyTraceDataset.load(r\"D:\\work\\ahcc\\90.project\\cracknuts\\demo\\jupyter\\dataset\\20250509182238.npy\")\n",
    "# 将数据集配置到波形显示面板\n",
    "tap.set_trace_dataset(scarr_trace_dataset)\n",
    "# 显示第二通道的前十条曲线\n",
    "tap.show_trace[0, :10]"
   ]
  },
  {
   "cell_type": "code",
   "execution_count": null,
   "id": "2f35e4b0-f657-491f-aed0-fa23db36fae8",
   "metadata": {},
   "outputs": [],
   "source": []
  }
 ],
 "metadata": {
  "kernelspec": {
   "display_name": "Python 3 (ipykernel)",
   "language": "python",
   "name": "python3"
  },
  "language_info": {
   "codemirror_mode": {
    "name": "ipython",
    "version": 3
   },
   "file_extension": ".py",
   "mimetype": "text/x-python",
   "name": "python",
   "nbconvert_exporter": "python",
   "pygments_lexer": "ipython3",
   "version": "3.12.10"
  }
 },
 "nbformat": 4,
 "nbformat_minor": 5
}
