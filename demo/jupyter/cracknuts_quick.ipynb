{
 "cells": [
  {
   "cell_type": "code",
   "execution_count": null,
   "id": "0",
   "metadata": {},
   "outputs": [],
   "source": [
    "import cracknuts as cn"
   ]
  },
  {
   "cell_type": "code",
   "execution_count": null,
   "id": "1",
   "metadata": {},
   "outputs": [],
   "source": [
    "cracker = cn.new_cracker('192.168.0.19')\n",
    "# cracker"
   ]
  },
  {
   "cell_type": "code",
   "execution_count": null,
   "id": "2",
   "metadata": {},
   "outputs": [],
   "source": [
    "import random\n",
    "import time\n",
    "from enum import Enum\n",
    "\n",
    "class AlgType(Enum):  # Algrithom type\n",
    "    AES_ENC = 1\n",
    "    AES_DEC = 2\n",
    "    DES_ENC = 3\n",
    "    DES_DEC = 4\n",
    "\n",
    "sample_length = 1024 * 20\n",
    "# alg = AlgType.AES_ENC # 修改这个值改变算法\n",
    "alg = AlgType.DES_ENC # 修改这个值改变算法\n",
    "\n",
    "# AES Command\n",
    "cmd_set_aes_enc_key = \"01 00 00 00 00 00 00 10\"\n",
    "cmd_set_aes_dec_key = \"01 01 00 00 00 00 00 10\"\n",
    "cmd_aes_enc = \"01 02 00 00 00 00 00 10\"\n",
    "cmd_aes_dec = \"01 03 00 00 00 00 00 10\"\n",
    "key_aes = \"11 22 33 44 55 66 77 88 99 00 aa bb cc dd ee ff\"\n",
    "aes_data_len = 16\n",
    "\n",
    "# DES Command\n",
    "cmd_set_des_enc_key = \"02 00 00 00 00 00 00 08\"\n",
    "cmd_set_des_dec_key = \"02 01 00 00 00 00 00 08\"\n",
    "cmd_des_enc = \"02 02 00 00 00 00 00 08\"\n",
    "cmd_des_dec = \"02 03 00 00 00 00 00 08\"\n",
    "key_des = \"12 34 56 78 90 ab cd ef\"\n",
    "des_data_len = 8\n",
    "\n",
    "def init(c):        \n",
    "    \n",
    "    cracker.nut_set_voltage(3300) # 设置NUT工作电压\n",
    "    cracker.nut_set_enable(1) # 使能NUT供电\n",
    "    time.sleep(0.2)\n",
    "    \n",
    "    cracker.osc_set_analog_gain(1, 60) # 设置模拟信号增益       \n",
    "    cracker.osc_set_sample_len(sample_length) # 设置采样长度\n",
    "\n",
    "    cracker.osc_set_analog_trigger_source(2)\n",
    "    cracker.osc_set_trigger_edge_level(0)\n",
    "\n",
    "    if alg is AlgType.AES_ENC:\n",
    "        cmd = cmd_set_aes_enc_key + key_aes\n",
    "    elif alg is AlgType.AES_DEC:\n",
    "        cmd = cmd_set_aes_dec_key + key_aes\n",
    "    elif alg is AlgType.DES_ENC:\n",
    "        cmd = cmd_set_des_enc_key + key_des\n",
    "    else:\n",
    "        cmd = cmd_set_des_dec_key + key_des\n",
    "\n",
    "    cmd = cmd.replace(' ', '')\n",
    "    cmd = bytes.fromhex(cmd)\n",
    "    \n",
    "    cracker.cracker_serial_data(6, cmd)\n",
    "    # cracker.spi_transmit(cmd)\n",
    "    # res = cracker.spi_receive(6)\n",
    "    # print(res)\n",
    "\n",
    "def do(c):\n",
    "    # cracker.osc_force()\n",
    "    # print(cracker.osc_is_triggered())\n",
    "    \n",
    "    if alg is AlgType.AES_ENC or alg is AlgType.AES_DEC:\n",
    "        data = random.randbytes(aes_data_len)\n",
    "    else:\n",
    "        data = random.randbytes(des_data_len)\n",
    "    \n",
    "    if alg is AlgType.AES_ENC:\n",
    "        cmd = cmd_aes_enc\n",
    "    elif alg is AlgType.AES_DEC:\n",
    "        cmd = cmd_aes_dec\n",
    "    elif alg is AlgType.DES_ENC:\n",
    "        cmd = cmd_des_enc\n",
    "    else:\n",
    "        cmd = cmd_des_dec\n",
    "    \n",
    "    cmd = cmd.replace(' ', '')\n",
    "    cmd = bytes.fromhex(cmd)\n",
    "\n",
    "    d = cmd + data\n",
    "    # print(d.hex())\n",
    "\n",
    "    if alg is AlgType.AES_ENC or alg is AlgType.AES_DEC:\n",
    "        _, ret = cracker.cracker_serial_data(6+6 + aes_data_len, d)\n",
    "        # ret = cracker.spi_receive(12 + aes_data_len)\n",
    "        \n",
    "        # print(len(ret))\n",
    "        # print(ret.hex())\n",
    "        return data + ret[-aes_data_len:]\n",
    "    else:\n",
    "        _, ret = cracker.cracker_serial_data(6 + des_data_len, d)\n",
    "        # cracker.spi_transmit(d)\n",
    "        # ret = cracker.spi_receive(6 + des_data_len)\n",
    "        # print(len(ret))\n",
    "        # print(ret.hex())\n",
    "        # print(ret[-des_data_len:].hex())\n",
    "        return data + ret[-des_data_len:]\n",
    "               \n",
    "\n",
    "acq = cn.new_acquisition(cracker, do=do, init= init)"
   ]
  },
  {
   "cell_type": "code",
   "execution_count": null,
   "id": "3",
   "metadata": {},
   "outputs": [],
   "source": [
    "cn.panel(acq)"
   ]
  },
  {
   "cell_type": "code",
   "execution_count": null,
   "id": "4",
   "metadata": {},
   "outputs": [],
   "source": [
    "cracker.connect()"
   ]
  },
  {
   "cell_type": "code",
   "execution_count": null,
   "id": "5",
   "metadata": {},
   "outputs": [],
   "source": [
    "from cracknuts import logger\n",
    "\n",
    "logger.set_level('DEBUG')"
   ]
  },
  {
   "cell_type": "code",
   "execution_count": null,
   "id": "6",
   "metadata": {},
   "outputs": [],
   "source": [
    "cracker.osc_get_analog_wave(2, 0, 1024)"
   ]
  },
  {
   "cell_type": "code",
   "execution_count": null,
   "id": "7",
   "metadata": {},
   "outputs": [],
   "source": [
    "cracker.osc_set_analog_trigger_source(1)\n",
    "# cracker.osc_set_trigger_edge_level(0)"
   ]
  }
 ],
 "metadata": {
  "kernelspec": {
   "display_name": "Python 3 (ipykernel)",
   "language": "python",
   "name": "python3"
  },
  "language_info": {
   "codemirror_mode": {
    "name": "ipython",
    "version": 3
   },
   "file_extension": ".py",
   "mimetype": "text/x-python",
   "name": "python",
   "nbconvert_exporter": "python",
   "pygments_lexer": "ipython3",
   "version": "3.12.5"
  }
 },
 "nbformat": 4,
 "nbformat_minor": 5
}
