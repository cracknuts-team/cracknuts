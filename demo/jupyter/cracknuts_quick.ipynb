{
 "cells": [
  {
   "cell_type": "code",
   "execution_count": 1,
   "id": "0",
   "metadata": {},
   "outputs": [],
   "source": [
    "import cracknuts as cn"
   ]
  },
  {
   "cell_type": "code",
   "execution_count": 2,
   "id": "1",
   "metadata": {},
   "outputs": [],
   "source": [
    "cracker = cn.new_cracker('192.168.0.12')\n",
    "# cracker"
   ]
  },
  {
   "cell_type": "code",
   "execution_count": null,
   "id": "2",
   "metadata": {},
   "outputs": [],
   "source": [
    "import time\n",
    "def do(cracker):\n",
    "    time.sleep(0.1)\n",
    "    return b'123123'\n",
    "\n",
    "acq = cn.new_acquisition(cracker, do=do)\n",
    "# acq"
   ]
  },
  {
   "cell_type": "code",
   "execution_count": 3,
   "id": "3",
   "metadata": {},
   "outputs": [],
   "source": [
    "import random\n",
    "import time\n",
    "from enum import Enum\n",
    "\n",
    "class AlgType(Enum):  # Algrithom type\n",
    "    AES_ENC = 1\n",
    "    AES_DEC = 2\n",
    "    DES_ENC = 3\n",
    "    DES_DEC = 4\n",
    "\n",
    "sample_length = 1024 * 20\n",
    "# alg = AlgType.AES_ENC # 修改这个值改变算法\n",
    "alg = AlgType.DES_ENC # 修改这个值改变算法\n",
    "\n",
    "# AES Command\n",
    "cmd_set_aes_enc_key = \"01 00 00 00 00 00 00 10\"\n",
    "cmd_set_aes_dec_key = \"01 01 00 00 00 00 00 10\"\n",
    "cmd_aes_enc = \"01 02 00 00 00 00 00 10\"\n",
    "cmd_aes_dec = \"01 03 00 00 00 00 00 10\"\n",
    "key_aes = \"11 22 33 44 55 66 77 88 99 00 aa bb cc dd ee ff\"\n",
    "aes_data_len = 16\n",
    "\n",
    "# DES Command\n",
    "cmd_set_des_enc_key = \"02 00 00 00 00 00 00 08\"\n",
    "cmd_set_des_dec_key = \"02 01 00 00 00 00 00 08\"\n",
    "cmd_des_enc = \"02 02 00 00 00 00 00 08\"\n",
    "cmd_des_dec = \"02 03 00 00 00 00 00 08\"\n",
    "key_des = \"12 34 56 78 90 ab cd ef\"\n",
    "des_data_len = 8\n",
    "\n",
    "def init(c):        \n",
    "    \n",
    "    cracker.nut_set_voltage(3300) # 设置NUT工作电压\n",
    "    cracker.nut_set_enable(1) # 使能NUT供电\n",
    "    cracker.cracker_uart_enable(True)\n",
    "    time.sleep(0.2)\n",
    "    \n",
    "    cracker.osc_set_analog_gain(1, 60) # 设置模拟信号增益       \n",
    "    cracker.osc_set_sample_len(sample_length) # 设置采样长度\n",
    "\n",
    "    if alg is AlgType.AES_ENC:\n",
    "        cmd = cmd_set_aes_enc_key + key_aes\n",
    "    elif alg is AlgType.AES_DEC:\n",
    "        cmd = cmd_set_aes_dec_key + key_aes\n",
    "    elif alg is AlgType.DES_ENC:\n",
    "        cmd = cmd_set_des_enc_key + key_des\n",
    "    else:\n",
    "        cmd = cmd_set_des_dec_key + key_des\n",
    "\n",
    "    cmd = cmd.replace(' ', '')\n",
    "    cmd = bytes.fromhex(cmd)\n",
    "\n",
    "    status, ret = cracker.cracker_uart_transmit_receive(cmd, timeout=1000, rx_count=6)\n",
    "    # cracker.cracker_serial_data(6, cmd)\n",
    "    # cracker.spi_transmit(cmd)\n",
    "    # res = cracker.spi_receive(6)\n",
    "    # print(res)\n",
    "\n",
    "def do(c):\n",
    "    # cracker.osc_force()\n",
    "    # print(cracker.osc_is_triggered())\n",
    "    \n",
    "    if alg is AlgType.AES_ENC or alg is AlgType.AES_DEC:\n",
    "        data = random.randbytes(aes_data_len)\n",
    "    else:\n",
    "        data = random.randbytes(des_data_len)\n",
    "    \n",
    "    if alg is AlgType.AES_ENC:\n",
    "        cmd = cmd_aes_enc\n",
    "    elif alg is AlgType.AES_DEC:\n",
    "        cmd = cmd_aes_dec\n",
    "    elif alg is AlgType.DES_ENC:\n",
    "        cmd = cmd_des_enc\n",
    "    else:\n",
    "        cmd = cmd_des_dec\n",
    "    \n",
    "    cmd = cmd.replace(' ', '')\n",
    "    cmd = bytes.fromhex(cmd)\n",
    "\n",
    "    d = cmd + data\n",
    "    # print(d.hex())\n",
    "\n",
    "    if alg is AlgType.AES_ENC or alg is AlgType.AES_DEC:\n",
    "        _, ret = cracker.cracker_serial_data(6+6 + aes_data_len, d)\n",
    "        _, ret = cracker.cracker_uart_transmit_receive(d, rx_count=6+6 + aes_data_len)\n",
    "        # ret = cracker.spi_receive(12 + aes_data_len)\n",
    "        \n",
    "        # print(len(ret))\n",
    "        # print(ret.hex())\n",
    "        return data + ret[-aes_data_len:]\n",
    "    else:\n",
    "        # _, ret = cracker.cracker_serial_data(6 + des_data_len, d)\n",
    "        _, ret = cracker.cracker_uart_transmit_receive(d, rx_count=6 + des_data_len)\n",
    "        # cracker.spi_transmit(d)\n",
    "        # ret = cracker.spi_receive(6 + des_data_len)\n",
    "        # print(len(ret))\n",
    "        # print(ret.hex())\n",
    "        # print(ret[-des_data_len:].hex())\n",
    "        return data + ret[-des_data_len:]\n",
    "               \n",
    "\n",
    "acq = cn.new_acquisition(cracker, do=do, init= init)"
   ]
  },
  {
   "cell_type": "code",
   "execution_count": 8,
   "id": "4",
   "metadata": {},
   "outputs": [
    {
     "data": {
      "application/vnd.jupyter.widget-view+json": {
       "model_id": "3283382bb8354eb4877b1eace141c959",
       "version_major": 2,
       "version_minor": 1
      },
      "text/plain": [
       "CracknutsPanelWidget(acq_run_progress={'finished': 0, 'total': 1}, connect_status=True, cracker_id='CRACKER-S1…"
      ]
     },
     "execution_count": 8,
     "metadata": {},
     "output_type": "execute_result"
    },
    {
     "name": "stderr",
     "output_type": "stream",
     "text": [
      "[ERROR] 2025-01-05 19:50:00,774 acquisition._loop:514 Triggered judge timeout and will get next waves, judge time: 1.0395736694335938 and timeout is 1.0\n",
      "[ERROR] 2025-01-05 19:50:15,187 acquisition._loop:514 Triggered judge timeout and will get next waves, judge time: 1.0442519187927246 and timeout is 1.0\n",
      "[ERROR] 2025-01-05 19:50:40,526 acquisition._loop:514 Triggered judge timeout and will get next waves, judge time: 1.0387957096099854 and timeout is 1.0\n"
     ]
    }
   ],
   "source": [
    "cn.panel(acq)"
   ]
  },
  {
   "cell_type": "code",
   "execution_count": 4,
   "id": "5",
   "metadata": {
    "ExecuteTime": {
     "end_time": "2025-01-05T06:23:29.225350Z",
     "start_time": "2025-01-05T06:23:28.974907Z"
    }
   },
   "outputs": [],
   "source": [
    "cracker.reconnect()"
   ]
  },
  {
   "cell_type": "code",
   "execution_count": null,
   "id": "4c3861fa020b0dfc",
   "metadata": {},
   "outputs": [],
   "source": [
    "from cracknuts.cracker.operator import Operator\n",
    "\n",
    "operator = Operator('192.168.0.10', 9760)\n",
    "\n",
    "operator.set_ip('192.168.0.10', '255.255.255.0', '192.168.0.1')"
   ]
  },
  {
   "cell_type": "code",
   "execution_count": null,
   "id": "1a1cab6e-7901-47bb-a370-339f6b261963",
   "metadata": {},
   "outputs": [],
   "source": [
    "from cracknuts import logger\n",
    "\n",
    "logger.set_level('DEBUG')"
   ]
  },
  {
   "cell_type": "code",
   "execution_count": null,
   "id": "ae31f193-b518-4eb1-88a8-3f32a4c715d8",
   "metadata": {},
   "outputs": [],
   "source": [
    "# cracker.connect()\n",
    "cracker.connect(force_update_bin=True)"
   ]
  },
  {
   "cell_type": "code",
   "execution_count": 6,
   "id": "4ac77e16-b9d3-4a8e-8902-9d53c540345f",
   "metadata": {},
   "outputs": [
    {
     "data": {
      "text/plain": [
       "(0, None)"
      ]
     },
     "execution_count": 6,
     "metadata": {},
     "output_type": "execute_result"
    }
   ],
   "source": [
    "cracker.cracker_uart_enable(True)"
   ]
  },
  {
   "cell_type": "code",
   "execution_count": null,
   "id": "d7034f74-1a9c-48e3-a275-75db08258f07",
   "metadata": {},
   "outputs": [],
   "source": [
    "cracker.cracker_uart_config()"
   ]
  },
  {
   "cell_type": "code",
   "execution_count": null,
   "id": "a39e41c9-9507-4e4d-8fde-35d5dfa0a514",
   "metadata": {},
   "outputs": [],
   "source": [
    "cracker.cracker_uart_config(baudrate=960000)"
   ]
  },
  {
   "cell_type": "code",
   "execution_count": null,
   "id": "f20c427e-37bb-48aa-8f79-2d600b945fb2",
   "metadata": {},
   "outputs": [],
   "source": [
    "cracker.cracker_uart_receive_fifo_remained()"
   ]
  },
  {
   "cell_type": "code",
   "execution_count": null,
   "id": "3b9b8c37-d88a-4434-97fa-259960ab329e",
   "metadata": {},
   "outputs": [],
   "source": [
    "cracker.cracker_uart_receive_fifo_dump()"
   ]
  },
  {
   "cell_type": "code",
   "execution_count": null,
   "id": "aa8c9a16-1c6d-4c30-83b0-7fc73e01894a",
   "metadata": {},
   "outputs": [],
   "source": [
    "cracker.uart_receive_fifo_clear()"
   ]
  },
  {
   "cell_type": "code",
   "execution_count": null,
   "id": "7826c96d-3177-47c7-81b1-c6f116013321",
   "metadata": {},
   "outputs": [],
   "source": [
    "cracker.cracker_uart_reset()"
   ]
  },
  {
   "cell_type": "code",
   "execution_count": 5,
   "id": "ccef02b7-f677-4eeb-8ba6-3eafcdae007e",
   "metadata": {},
   "outputs": [
    {
     "data": {
      "text/plain": [
       "(0, None)"
      ]
     },
     "execution_count": 5,
     "metadata": {},
     "output_type": "execute_result"
    }
   ],
   "source": [
    "cracker.nut_set_enable(True)"
   ]
  },
  {
   "cell_type": "code",
   "execution_count": null,
   "id": "78e928c1-47ef-4a6d-aa21-0c0e70c625c0",
   "metadata": {},
   "outputs": [],
   "source": [
    "cmd_set_des_enc_key = \"02 00 00 00 00 00 00 08\"\n",
    "cmd_set_des_dec_key = \"02 01 00 00 00 00 00 08\"\n",
    "cmd_des_enc = \"02 02 00 00 00 00 00 08\"\n",
    "cmd_des_dec = \"02 03 00 00 00 00 00 08\"\n",
    "key_des = \"12 34 56 78 90 ab cd ef\"\n",
    "des_data_len = 8\n",
    "\n",
    "# cracker.cracker_uart_transmit_receive(cmd_set_des_enc_key + \" \" + key_des, timeout=1)"
   ]
  },
  {
   "cell_type": "code",
   "execution_count": 7,
   "id": "688c36f9-0a9c-4de0-9592-663fbe71787c",
   "metadata": {},
   "outputs": [
    {
     "data": {
      "text/plain": [
       "(0, b'\\x00\\x00\\x00\\x00\\x00\\x00')"
      ]
     },
     "execution_count": 7,
     "metadata": {},
     "output_type": "execute_result"
    }
   ],
   "source": [
    "cracker.cracker_uart_transmit_receive(cmd_set_des_enc_key + \" \" + key_des, timeout=1000, rx_count=6)"
   ]
  },
  {
   "cell_type": "code",
   "execution_count": null,
   "id": "0b913313-775d-466d-bd7b-ecc0573c0107",
   "metadata": {},
   "outputs": [],
   "source": [
    "cracker.cracker_write_register(base_address=0x43c10000, offset=0x0050, data=0x0)"
   ]
  },
  {
   "cell_type": "code",
   "execution_count": null,
   "id": "4a6dce1f-88c4-45e7-a96f-b228852fbaad",
   "metadata": {},
   "outputs": [],
   "source": [
    "cracker.cracker_write_register(base_address=0x43c10000, offset=0x0050, data=0x1)"
   ]
  },
  {
   "cell_type": "code",
   "execution_count": null,
   "id": "531a8c62-10bd-4421-bdb9-f88193c3fd17",
   "metadata": {},
   "outputs": [],
   "source": [
    "cracker.cracker_read_register(base_address=0x43c10000, offset=0x0050)"
   ]
  },
  {
   "cell_type": "code",
   "execution_count": null,
   "id": "40bff3af-bbf7-435c-8e73-cace3c6a75d6",
   "metadata": {},
   "outputs": [],
   "source": [
    "cracker.cracker_read_register(base_address=0x43c10000, offset=0x0050)"
   ]
  },
  {
   "cell_type": "code",
   "execution_count": null,
   "id": "450c1141-f0de-4df0-91e9-e8e7e9bb3e68",
   "metadata": {},
   "outputs": [],
   "source": [
    "cracker.disconnect()"
   ]
  },
  {
   "cell_type": "code",
   "execution_count": null,
   "id": "31cb584f-2298-4f14-b0f2-f68928f38e53",
   "metadata": {},
   "outputs": [],
   "source": [
    "from cracknuts import logger\n",
    "\n",
    "logger.set_level('DEBUG')"
   ]
  }
 ],
 "metadata": {
  "kernelspec": {
   "display_name": "Python 3 (ipykernel)",
   "language": "python",
   "name": "python3"
  },
  "language_info": {
   "codemirror_mode": {
    "name": "ipython",
    "version": 3
   },
   "file_extension": ".py",
   "mimetype": "text/x-python",
   "name": "python",
   "nbconvert_exporter": "python",
   "pygments_lexer": "ipython3",
   "version": "3.13.0"
  }
 },
 "nbformat": 4,
 "nbformat_minor": 5
}
