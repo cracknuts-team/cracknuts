{
 "cells": [
  {
   "cell_type": "code",
   "execution_count": null,
   "id": "0",
   "metadata": {},
   "outputs": [],
   "source": [
    "import cracknuts as cn"
   ]
  },
  {
   "cell_type": "code",
   "execution_count": null,
   "id": "1",
   "metadata": {},
   "outputs": [],
   "source": [
    "cracker = cn.new_cracker('127.0.0.1')\n",
    "# cracker"
   ]
  },
  {
   "cell_type": "code",
   "execution_count": null,
   "id": "2",
   "metadata": {},
   "outputs": [],
   "source": [
    "import time\n",
    "def do(cracker):\n",
    "    time.sleep(0.1)\n",
    "    return b'123123'\n",
    "\n",
    "acq = cn.new_acquisition(cracker, do=do)\n",
    "# acq"
   ]
  },
  {
   "cell_type": "code",
   "execution_count": null,
   "id": "3",
   "metadata": {},
   "outputs": [],
   "source": [
    "# cn.monitor_panel(acq)"
   ]
  },
  {
   "cell_type": "code",
   "execution_count": null,
   "id": "4",
   "metadata": {},
   "outputs": [],
   "source": [
    "cn.panel(acq)"
   ]
  },
  {
   "cell_type": "code",
   "execution_count": null,
   "id": "5",
   "metadata": {},
   "outputs": [],
   "source": [
    "import logging\n",
    "\n",
    "# 配置日志记录\n",
    "logger = logging.getLogger('jupyter_log')\n",
    "logger.setLevel(logging.DEBUG)  # 设置日志级别\n",
    "\n",
    "# 创建指向标准错误的控制台处理器\n",
    "console_handler = logging.StreamHandler()  # 默认使用 sys.stderr\n",
    "console_handler.setLevel(logging.DEBUG)\n",
    "\n",
    "# 设置日志格式\n",
    "formatter = logging.Formatter('%(asctime)s - %(name)s - %(levelname)s - %(message)s')\n",
    "console_handler.setFormatter(formatter)\n",
    "\n",
    "# 清除已有的处理器，防止重复日志\n",
    "if logger.hasHandlers():\n",
    "    logger.handlers.clear()\n",
    "\n",
    "# 将处理器添加到 logger\n",
    "logger.addHandler(console_handler)\n",
    "\n",
    "# 打印日志\n",
    "logger.info(\"This message will appear in the terminal, not in the notebook cell.\")\n",
    "logger.warning(\"This is a warning.\")\n",
    "logger.error(\"This is an error.\")\n",
    "\n"
   ]
  },
  {
   "cell_type": "code",
   "execution_count": null,
   "id": "6",
   "metadata": {},
   "outputs": [],
   "source": [
    "cracker.osc_set_sample_phase(60)"
   ]
  }
 ],
 "metadata": {
  "kernelspec": {
   "display_name": "Python 3 (ipykernel)",
   "language": "python",
   "name": "python3"
  },
  "language_info": {
   "codemirror_mode": {
    "name": "ipython",
    "version": 3
   },
   "file_extension": ".py",
   "mimetype": "text/x-python",
   "name": "python",
   "nbconvert_exporter": "python",
   "pygments_lexer": "ipython3",
   "version": "3.12.5"
  }
 },
 "nbformat": 4,
 "nbformat_minor": 5
}
