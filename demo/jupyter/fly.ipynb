{
 "cells": [
  {
   "cell_type": "code",
   "execution_count": 6,
   "id": "0",
   "metadata": {},
   "outputs": [],
   "source": [
    "# 引入依赖\n",
    "import cracknuts as cn\n",
    "\n",
    "# 创建 cracker \n",
    "cracker = cn.new_cracker('192.168.0.29')"
   ]
  },
  {
   "cell_type": "code",
   "execution_count": 7,
   "id": "1",
   "metadata": {},
   "outputs": [],
   "source": [
    "cracker.connect(force_update_bin=True, force_write_default_config=True)"
   ]
  },
  {
   "cell_type": "code",
   "execution_count": 4,
   "id": "4b69616e-9c78-4a33-a775-8f4abf96ce49",
   "metadata": {},
   "outputs": [
    {
     "data": {
      "text/plain": [
       "(0, None)"
      ]
     },
     "execution_count": 4,
     "metadata": {},
     "output_type": "execute_result"
    }
   ],
   "source": [
    "cracker.osc_trigger_source('G')"
   ]
  },
  {
   "cell_type": "code",
   "execution_count": 17,
   "id": "285b4a5e-b880-4110-80be-9603b177a7b7",
   "metadata": {},
   "outputs": [
    {
     "data": {
      "text/plain": [
       "(0, None)"
      ]
     },
     "execution_count": 17,
     "metadata": {},
     "output_type": "execute_result"
    }
   ],
   "source": [
    "cracker.gpio_delay(5000_000_00)"
   ]
  },
  {
   "cell_type": "code",
   "execution_count": 21,
   "id": "9a1c6428-985d-4aae-a98b-31a541168f78",
   "metadata": {},
   "outputs": [
    {
     "data": {
      "text/plain": [
       "(0, None)"
      ]
     },
     "execution_count": 21,
     "metadata": {},
     "output_type": "execute_result"
    }
   ],
   "source": [
    "cracker.gpio_control(1)"
   ]
  },
  {
   "cell_type": "code",
   "execution_count": 5,
   "id": "5b7f5346-e7b8-4e78-8993-522281b5d765",
   "metadata": {},
   "outputs": [
    {
     "data": {
      "text/plain": [
       "(0, None)"
      ]
     },
     "execution_count": 5,
     "metadata": {},
     "output_type": "execute_result"
    }
   ],
   "source": [
    "cracker.gpio_control(0)"
   ]
  },
  {
   "cell_type": "code",
   "execution_count": 14,
   "id": "75500c60-66b5-43a3-8e44-fa1eff22e0ad",
   "metadata": {},
   "outputs": [],
   "source": [
    "from cracknuts import logger\n",
    "logger.set_level('warn')"
   ]
  },
  {
   "cell_type": "code",
   "execution_count": 19,
   "id": "5451379b-48ff-4d73-8363-e0579fa438f5",
   "metadata": {},
   "outputs": [
    {
     "data": {
      "text/plain": [
       "(0,\n",
       " \"operator_version: 0.3.0-alpha.3, server_version: 0.5.6, bitstream_version: b'S1-0.1.0-alpha.14'\")"
      ]
     },
     "execution_count": 19,
     "metadata": {},
     "output_type": "execute_result"
    }
   ],
   "source": [
    "cracker.get_firmware_version()"
   ]
  },
  {
   "cell_type": "code",
   "execution_count": 27,
   "id": "0857a27e-c196-42f6-8ce0-89617f7b29b8",
   "metadata": {},
   "outputs": [
    {
     "data": {
      "text/plain": [
       "(0, b'\\x00\\x00\\x00\\x01')"
      ]
     },
     "execution_count": 27,
     "metadata": {},
     "output_type": "execute_result"
    }
   ],
   "source": [
    "cracker.register_read(base_address=0x43c10000, offset=0x24)"
   ]
  },
  {
   "cell_type": "code",
   "execution_count": 6,
   "id": "c2f2bce2-0924-4fed-a88f-436e7b490ed4",
   "metadata": {},
   "outputs": [
    {
     "data": {
      "text/plain": [
       "(0, b'\\x00\\x00\\x00\\x06')"
      ]
     },
     "execution_count": 6,
     "metadata": {},
     "output_type": "execute_result"
    }
   ],
   "source": [
    "cracker.register_read(base_address=0x43C20000, offset=0x1c)"
   ]
  },
  {
   "cell_type": "code",
   "execution_count": 9,
   "id": "b3dd36e6-bee3-411d-9f36-826bd0f99a8a",
   "metadata": {},
   "outputs": [
    {
     "data": {
      "text/plain": [
       "(0, b'\\x02\\xfa\\xf0\\x80')"
      ]
     },
     "execution_count": 9,
     "metadata": {},
     "output_type": "execute_result"
    }
   ],
   "source": [
    "cracker.register_read(base_address=0x43c10000, offset=0x28)"
   ]
  },
  {
   "cell_type": "code",
   "execution_count": 8,
   "id": "5376e060-9bbd-46bc-89dd-c754311bc189",
   "metadata": {},
   "outputs": [
    {
     "data": {
      "text/plain": [
       "(0, None)"
      ]
     },
     "execution_count": 8,
     "metadata": {},
     "output_type": "execute_result"
    }
   ],
   "source": [
    "cracker.register_write(base_address=0x43c10000, offset=0x28, data=500_000_00)"
   ]
  },
  {
   "cell_type": "code",
   "execution_count": 25,
   "id": "c6bdbe7c-c439-4bd2-927a-e414538218d8",
   "metadata": {},
   "outputs": [
    {
     "data": {
      "text/plain": [
       "(0, None)"
      ]
     },
     "execution_count": 25,
     "metadata": {},
     "output_type": "execute_result"
    }
   ],
   "source": [
    "cracker.register_write(base_address=0x43c10000, offset=0x24, data=1)"
   ]
  },
  {
   "cell_type": "code",
   "execution_count": null,
   "id": "5b96c048-034f-43cc-bb73-14b0d33cec77",
   "metadata": {},
   "outputs": [],
   "source": []
  },
  {
   "cell_type": "code",
   "execution_count": 3,
   "id": "2",
   "metadata": {},
   "outputs": [
    {
     "data": {
      "text/plain": [
       "(0, 'beta_test')"
      ]
     },
     "execution_count": 3,
     "metadata": {},
     "output_type": "execute_result"
    }
   ],
   "source": [
    "cracker.get_id() # 获取设备ID"
   ]
  },
  {
   "cell_type": "code",
   "execution_count": 9,
   "id": "3",
   "metadata": {},
   "outputs": [],
   "source": [
    "import random\n",
    "import time\n",
    "from cracknuts.cracker import serial\n",
    "\n",
    "\n",
    "cmd_set_aes_enc_key = \"01 00 00 00 00 00 00 10\"\n",
    "cmd_aes_enc = \"01 02 00 00 00 00 00 10\"\n",
    "\n",
    "aes_key = \"11 22 33 44 55 66 77 88 99 00 aa bb cc dd ee ff\"\n",
    "aes_data_len = 16\n",
    "\n",
    "sample_length = 400000\n",
    "\n",
    "def init(c):\n",
    "    cracker.nut_voltage_enable()\n",
    "    cracker.nut_voltage(3.3)\n",
    "    cracker.nut_clock_enable()\n",
    "    cracker.nut_clock_freq('8M')\n",
    "    cracker.uart_io_enable()\n",
    "    cracker.osc_sample_clock('48m')\n",
    "    cracker.osc_sample_length(sample_length)\n",
    "    # cracker.osc_trigger_source('N')\n",
    "    cracker.osc_analog_gain('A', 50)\n",
    "    # cracker.osc_trigger_level(0)\n",
    "    # cracker.osc_trigger_mode('E')\n",
    "    # cracker.osc_trigger_edge('U')\n",
    "    cracker.osc_trigger_source('G')\n",
    "    cracker.osc_analog_enable('A')\n",
    "    cracker.osc_analog_disable('B')\n",
    "    cracker.register_write(base_address=0x43c10000, offset=0x28, data=50)\n",
    "    cracker.osc_sample_clock('8m')\n",
    "    cracker.uart_config(baudrate=serial.Baudrate.BAUDRATE_115200, bytesize=serial.Bytesize.EIGHTBITS, parity=serial.Parity.PARITY_NONE, stopbits=serial.Stopbits.STOPBITS_ONE)\n",
    "\n",
    "    time.sleep(2)\n",
    "    cmd = cmd_set_aes_enc_key + aes_key\n",
    "    status, ret = cracker.uart_transmit_receive(cmd, timeout=1000, rx_count=6)\n",
    "\n",
    "def do(cracer, count):\n",
    "    time.sleep(5)\n",
    "    cracker.register_write(base_address=0x43c10000, offset=0x24, data=1)\n",
    "    # plaintext_data = random.randbytes(aes_data_len)\n",
    "    # tx_data = bytes.fromhex(cmd_aes_enc.replace(' ', '')) + plaintext_data\n",
    "    # status, ret = cracker.uart_transmit_receive(tx_data, rx_count= 6 + aes_data_len, is_trigger=True)\n",
    "    time.sleep(10)\n",
    "    cracker.register_write(base_address=0x43c10000, offset=0x24, data=0)\n",
    "    return {\n",
    "        \"plaintext\": b'',\n",
    "        \"ciphertext\": b'',\n",
    "        \"key\": b''\n",
    "    }\n",
    "\n",
    "\n",
    "def finish(c):\n",
    "    ...\n",
    "    # print('optional behavior')\n",
    "\n",
    "\n",
    "acq = cn.new_acquisition(cracker, init=init, do=do, finish=finish)"
   ]
  },
  {
   "cell_type": "code",
   "execution_count": 10,
   "id": "4",
   "metadata": {},
   "outputs": [
    {
     "data": {
      "application/vnd.jupyter.widget-view+json": {
       "model_id": "6cc2cbeab5b84c86a21a6220716b2a35",
       "version_major": 2,
       "version_minor": 1
      },
      "text/plain": [
       "CracknutsPanelWidget(acq_run_progress={'finished': 0, 'total': -1}, connect_status=True, custom_y_range={'0': …"
      ]
     },
     "execution_count": 10,
     "metadata": {},
     "output_type": "execute_result"
    }
   ],
   "source": [
    "cn.panel(acq)"
   ]
  },
  {
   "cell_type": "code",
   "execution_count": 6,
   "id": "c22eaa91-bf76-434f-a367-5b51ad03cc90",
   "metadata": {},
   "outputs": [
    {
     "data": {
      "text/plain": [
       "(0, None)"
      ]
     },
     "execution_count": 6,
     "metadata": {},
     "output_type": "execute_result"
    }
   ],
   "source": [
    "cracker.nut_voltage(3.3)"
   ]
  },
  {
   "cell_type": "code",
   "execution_count": 11,
   "id": "5",
   "metadata": {},
   "outputs": [
    {
     "data": {
      "text/plain": [
       "(0, None)"
      ]
     },
     "execution_count": 11,
     "metadata": {},
     "output_type": "execute_result"
    }
   ],
   "source": [
    "cracker.nut_voltage_enable()"
   ]
  },
  {
   "cell_type": "code",
   "execution_count": 10,
   "id": "83f3e0e0-85da-4fbc-832e-c674ad706fad",
   "metadata": {},
   "outputs": [
    {
     "data": {
      "text/plain": [
       "(0, None)"
      ]
     },
     "execution_count": 10,
     "metadata": {},
     "output_type": "execute_result"
    }
   ],
   "source": [
    "cracker.nut_voltage_disable()"
   ]
  },
  {
   "cell_type": "code",
   "execution_count": null,
   "id": "c35d2d25-0a71-40e7-8a58-4a19df56692b",
   "metadata": {},
   "outputs": [],
   "source": []
  }
 ],
 "metadata": {
  "kernelspec": {
   "display_name": "Python 3 (ipykernel)",
   "language": "python",
   "name": "python3"
  },
  "language_info": {
   "codemirror_mode": {
    "name": "ipython",
    "version": 3
   },
   "file_extension": ".py",
   "mimetype": "text/x-python",
   "name": "python",
   "nbconvert_exporter": "python",
   "pygments_lexer": "ipython3",
   "version": "3.12.5"
  }
 },
 "nbformat": 4,
 "nbformat_minor": 5
}
