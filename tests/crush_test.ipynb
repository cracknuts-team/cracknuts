{
 "cells": [
  {
   "cell_type": "code",
   "execution_count": null,
   "id": "0",
   "metadata": {},
   "outputs": [],
   "source": [
    "from cracknuts.cracker.crush import Crush"
   ]
  },
  {
   "cell_type": "code",
   "execution_count": null,
   "id": "1",
   "metadata": {},
   "outputs": [],
   "source": [
    "crush = Crush('192.168.0.11')\n",
    "\n",
    "crush.connect(force_update_bin=True, force_write_default_config=True)"
   ]
  },
  {
   "cell_type": "code",
   "execution_count": null,
   "id": "2",
   "metadata": {},
   "outputs": [],
   "source": [
    "crush.qspi_set_enable(True)"
   ]
  },
  {
   "cell_type": "code",
   "execution_count": null,
   "id": "3",
   "metadata": {},
   "outputs": [],
   "source": [
    "crush.qspi_set_post_delay(500000)"
   ]
  },
  {
   "cell_type": "code",
   "execution_count": null,
   "id": "4",
   "metadata": {},
   "outputs": [],
   "source": [
    "crush.qspi_set_fix_data('11 22 33 44')"
   ]
  },
  {
   "cell_type": "code",
   "execution_count": null,
   "id": "5",
   "metadata": {},
   "outputs": [],
   "source": [
    "crush.qspi_set_fab_data('AA BB CC DD')"
   ]
  },
  {
   "cell_type": "code",
   "execution_count": null,
   "id": "6",
   "metadata": {},
   "outputs": [],
   "source": [
    "crush.get_firmware_version()"
   ]
  },
  {
   "cell_type": "code",
   "execution_count": null,
   "id": "7",
   "metadata": {},
   "outputs": [],
   "source": [
    "import time\n",
    "\n",
    "while True:\n",
    "    crush.qspi_set_fix_data(fix_data)\n",
    "    crush.qspi_set_fab_data('00 11 22 33 44 55 66 77 88 99 AA BB CC DD EE FF 00 11 22 33 44 55 66 77 88 99 AA BB CC DD EE FF')\n",
    "    crush.qspi_action()\n",
    "    time.sleep(2)    "
   ]
  },
  {
   "cell_type": "code",
   "execution_count": null,
   "id": "8",
   "metadata": {},
   "outputs": [],
   "source": [
    "import random\n",
    "from cracknuts.cracker.crush import Crush\n",
    "import time\n",
    "\n",
    "# crush = Crush('192.168.0.11')\n",
    "# crush.connect(force_update_bin=True, force_write_default_config=True)\n",
    "\n",
    "# bin_path = r'../src/cracknuts/firmware/M_Top.bit'\n",
    "# bin_path = r'../src/cracknuts/firmware/M_Top_No_AES.bit'\n",
    "# f = open(bin_path, 'rb')\n",
    "# fix_data = f.read(0x115)\n",
    "# data=f.read()\n",
    "bin_path = r'D:\\crush\\M_Top.bit'\n",
    "# bin_path = r'D:\\crush\\M_Top_No_AES.bit'\n",
    "f = open(bin_path, 'rb')\n",
    "fix_data = f.read(0x115)\n",
    "data=f.read()\n",
    "print(f'{len(fix_data)}:{len(data)}')\n",
    "\n",
    "print(f\"head: {len(fix_data)}, body: {len(data)}\")\n",
    "\n",
    "def do(s):\n",
    "    # data = random.randbytes(16*8)\n",
    "    crush.qspi_set_fab_data(data)\n",
    "    crush.uart_transmit(tx_data='11', is_trigger=True)\n",
    "    crush.qspi_action()\n",
    "    time.sleep(1)\n",
    "    return {\n",
    "        'plaintext': data,\n",
    "        'ciphertext': bytes.fromhex('11223344')\n",
    "    }\n",
    "\n",
    "def init(s):\n",
    "    crush.osc_analog_disable('B')\n",
    "    crush.osc_analog_enable('A')\n",
    "    crush.osc_analog_gain('A', 50)\n",
    "    crush.osc_trigger_source('P')\n",
    "    crush.uart_io_enable()\n",
    "    crush.qspi_set_enable(True)\n",
    "    crush.qspi_set_post_delay(10_00_000_000)\n",
    "    crush.osc_sample_length(140000)\n",
    "    crush.qspi_set_fix_data(fix_data)\n",
    "    "
   ]
  },
  {
   "cell_type": "code",
   "execution_count": null,
   "id": "9",
   "metadata": {},
   "outputs": [],
   "source": [
    "import cracknuts as cn\n",
    "from cracknuts.acquisition import Acquisition\n",
    "\n",
    "acq = cn.new_acquisition(crush, init=init, do=do, trace_count=100000)\n",
    "\n",
    "cn.panel(acq)"
   ]
  },
  {
   "cell_type": "code",
   "execution_count": null,
   "id": "10",
   "metadata": {},
   "outputs": [],
   "source": []
  },
  {
   "cell_type": "code",
   "execution_count": null,
   "id": "11",
   "metadata": {},
   "outputs": [],
   "source": []
  },
  {
   "cell_type": "code",
   "execution_count": null,
   "id": "12",
   "metadata": {},
   "outputs": [],
   "source": [
    "from cracknuts.cracker.crush import Crush"
   ]
  },
  {
   "cell_type": "code",
   "execution_count": null,
   "id": "13",
   "metadata": {},
   "outputs": [],
   "source": [
    "bin_path = r'D:\\crush\\M_Top.bit'\n",
    "# bin_path = r'D:\\crush\\M_Top_No_AES.bit'\n",
    "f = open(bin_path, 'rb')\n",
    "fix_data = f.read(0x115)\n",
    "data=f.read(0x216F75-0x115)\n",
    "print(f'{len(fix_data)}:{len(data)}')\n",
    "print(data[-4:].hex(' '))"
   ]
  },
  {
   "cell_type": "code",
   "execution_count": null,
   "id": "14",
   "metadata": {},
   "outputs": [],
   "source": [
    "# bin_path = r'D:\\crush\\M_Top.bit'\n",
    "bin_path = r'D:\\crush\\M_Top_No_AES.bit'\n",
    "f = open(bin_path, 'rb')\n",
    "fix_data = f.read(0x115)\n",
    "data=f.read(0x00216CB1-0x115)\n",
    "print(f'{len(fix_data)}:{len(data)}')\n",
    "print(data[-8:].hex(' '))"
   ]
  },
  {
   "cell_type": "code",
   "execution_count": null,
   "id": "15",
   "metadata": {},
   "outputs": [],
   "source": [
    "data[:4].hex(' ')"
   ]
  },
  {
   "cell_type": "code",
   "execution_count": null,
   "id": "16",
   "metadata": {},
   "outputs": [],
   "source": [
    "crush = Crush('192.168.0.11')\n",
    "\n",
    "crush.connect(force_update_bin=True, force_write_default_config=True)"
   ]
  },
  {
   "cell_type": "code",
   "execution_count": null,
   "id": "17",
   "metadata": {},
   "outputs": [],
   "source": [
    "crush.qspi_set_enable(True)\n",
    "# crush.qspi_set_post_delay(10_00_000_000)\n",
    "crush.qspi_set_post_delay(1_00_000_000)"
   ]
  },
  {
   "cell_type": "code",
   "execution_count": null,
   "id": "18",
   "metadata": {},
   "outputs": [],
   "source": [
    "crush.qspi_set_fix_data(fix_data)\n",
    "crush.qspi_set_fab_data(data)\n",
    "# crush.qspi_write_buffer(base_addr=0x3fc00000, offset=0x0, data=data)\n",
    "crush.qspi_action()\n",
    "# time.sleep(0.01)  "
   ]
  },
  {
   "cell_type": "code",
   "execution_count": null,
   "id": "19",
   "metadata": {},
   "outputs": [],
   "source": [
    "crush.qspi_action()"
   ]
  },
  {
   "cell_type": "code",
   "execution_count": null,
   "id": "20",
   "metadata": {},
   "outputs": [],
   "source": [
    "import time\n",
    "\n",
    "while True:\n",
    "    crush.qspi_set_fix_data(fix_data)\n",
    "    crush.qspi_set_fab_data(data)\n",
    "    crush.qspi_action()\n",
    "    time.sleep(10)    "
   ]
  },
  {
   "cell_type": "code",
   "execution_count": null,
   "id": "21",
   "metadata": {},
   "outputs": [],
   "source": [
    "from cracknuts import logger\n",
    "\n",
    "logger.set_level('warn')\n",
    "crush.set_logger_debug_payload_max_length(2560)"
   ]
  },
  {
   "cell_type": "code",
   "execution_count": null,
   "id": "22",
   "metadata": {},
   "outputs": [],
   "source": [
    "crush.qspi_write_buffer(base_addr=0x3fc00000, offset=0x0, data='aa 11 22 33 44')"
   ]
  },
  {
   "cell_type": "code",
   "execution_count": null,
   "id": "23",
   "metadata": {},
   "outputs": [],
   "source": [
    "crush.register_read(base_address=0x43c10000, offset=0x20C)[1].hex(' ')"
   ]
  }
 ],
 "metadata": {
  "kernelspec": {
   "display_name": "Python 3 (ipykernel)",
   "language": "python",
   "name": "python3"
  },
  "language_info": {
   "codemirror_mode": {
    "name": "ipython",
    "version": 3
   },
   "file_extension": ".py",
   "mimetype": "text/x-python",
   "name": "python",
   "nbconvert_exporter": "python",
   "pygments_lexer": "ipython3",
   "version": "3.12.5"
  }
 },
 "nbformat": 4,
 "nbformat_minor": 5
}
