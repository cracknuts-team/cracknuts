{
 "cells": [
  {
   "cell_type": "code",
   "execution_count": null,
   "id": "b670565a-c506-4fac-9c94-f89c647538fa",
   "metadata": {},
   "outputs": [],
   "source": [
    "from cracknuts.cracker.crush import Crush"
   ]
  },
  {
   "cell_type": "code",
   "execution_count": null,
   "id": "3ae73f0f-0809-4868-b99f-59f791162e60",
   "metadata": {},
   "outputs": [],
   "source": [
    "crush = Crush('192.168.0.11')\n",
    "\n",
    "crush.connect(force_update_bin=True, force_write_default_config=True)"
   ]
  },
  {
   "cell_type": "code",
   "execution_count": null,
   "id": "b3e1fb29-f88b-4264-9a47-c4b6f817861f",
   "metadata": {},
   "outputs": [],
   "source": [
    "crush.qspi_set_enable(True)"
   ]
  },
  {
   "cell_type": "code",
   "execution_count": null,
   "id": "a141226c-493f-4d30-9ac0-feb58a912ecc",
   "metadata": {},
   "outputs": [],
   "source": [
    "crush.qspi_set_post_delay(800)"
   ]
  },
  {
   "cell_type": "code",
   "execution_count": null,
   "id": "d9301ebe-1712-4d81-bcd5-14222c9a2f81",
   "metadata": {},
   "outputs": [],
   "source": [
    "crush.qspi_set_fix_data('11 22 33 44')"
   ]
  },
  {
   "cell_type": "code",
   "execution_count": null,
   "id": "f701b2ec-f81b-44f6-911a-73fc66afbbfa",
   "metadata": {},
   "outputs": [],
   "source": [
    "crush.qspi_set_fab_data('AA BB CC DD')"
   ]
  },
  {
   "cell_type": "code",
   "execution_count": null,
   "id": "1180a7cb-0c97-4962-9298-5609889cf999",
   "metadata": {},
   "outputs": [],
   "source": [
    "crush.get_firmware_version()"
   ]
  },
  {
   "cell_type": "code",
   "execution_count": null,
   "id": "645a47e4-3932-429f-a6ce-71150326584f",
   "metadata": {},
   "outputs": [],
   "source": [
    "import time\n",
    "\n",
    "while True:\n",
    "    crush.qspi_set_fix_data(fix_data)\n",
    "    crush.qspi_set_fab_data('00 11 22 33 44 55 66 77 88 99 AA BB CC DD EE FF 00 11 22 33 44 55 66 77 88 99 AA BB CC DD EE FF')\n",
    "    crush.qspi_action()\n",
    "    time.sleep(2)    "
   ]
  },
  {
   "cell_type": "code",
   "execution_count": 39,
   "id": "56b3b0f0-e777-486b-bdd5-5c4f3b459986",
   "metadata": {},
   "outputs": [],
   "source": [
    "import random\n",
    "from cracknuts.cracker.crush import Crush\n",
    "import time\n",
    "\n",
    "crush = Crush('192.168.0.11')\n",
    "crush.connect(force_update_bin=True, force_write_default_config=True)\n",
    "\n",
    "bin_path = r'/cracknuts/firmware/M_Top.bit'\n",
    "f = open(bin_path, 'rb')\n",
    "fix_data = f.read(0x115)\n",
    "\n",
    "def do(s):\n",
    "    # time.sleep(1)\n",
    "    data = random.randbytes(16*8)\n",
    "    crush.qspi_set_fab_data(data)\n",
    "    crush.uart_transmit(tx_data='11', is_trigger=True)\n",
    "    crush.qspi_action()\n",
    "    return {\n",
    "        'plaintext': data,\n",
    "        'ciphertext': bytes.fromhex('11223344')\n",
    "    }\n",
    "\n",
    "def init(s):\n",
    "    crush.osc_analog_disable('B')\n",
    "    crush.osc_analog_enable('A')\n",
    "    crush.osc_analog_gain('A', 50)\n",
    "    crush.uart_io_enable()\n",
    "    crush.qspi_set_enable(True)\n",
    "    crush.qspi_set_post_delay(0xffff)\n",
    "    crush.osc_sample_length(140000)\n",
    "    crush.qspi_set_fix_data(fix_data)\n",
    "    "
   ]
  },
  {
   "cell_type": "code",
   "execution_count": 40,
   "id": "e2a6ea9d-9614-42f4-86f0-d945e8189643",
   "metadata": {},
   "outputs": [
    {
     "name": "stderr",
     "output_type": "stream",
     "text": [
      "[WARNING] 2025-08-24 17:51:38,579 cracknuts_panel.__init__:62 The configuration item osc_channel_0_enable differs between the configuration file (True) and the cracker (False).\n"
     ]
    },
    {
     "data": {
      "application/vnd.jupyter.widget-view+json": {
       "model_id": "31b7e5da5fe644419d8ba64815eefe54",
       "version_major": 2,
       "version_minor": 1
      },
      "text/plain": [
       "CracknutsPanelWidget(acq_run_progress={'finished': 0, 'total': -1}, connect_status=True, custom_y_range={'0': …"
      ]
     },
     "execution_count": 40,
     "metadata": {},
     "output_type": "execute_result"
    }
   ],
   "source": [
    "import cracknuts as cn\n",
    "from cracknuts.acquisition import Acquisition\n",
    "\n",
    "acq = cn.new_acquisition(crush, init=init, do=do, trace_count=100000)\n",
    "\n",
    "cn.panel(acq)"
   ]
  },
  {
   "cell_type": "code",
   "execution_count": 14,
   "id": "501ac3f9-c9d0-4ba4-b526-0b2a445ad9b4",
   "metadata": {},
   "outputs": [],
   "source": [
    "crush.qspi_set_fix_data(fix_data)\n",
    "crush.qspi_set_fab_data('00 11 22 33 44 55 66 77 88 99 AA BB CC DD EE FF' * 8)\n",
    "crush.qspi_action()\n",
    "# time.sleep(0.01)  "
   ]
  },
  {
   "cell_type": "code",
   "execution_count": null,
   "id": "36e07937-6670-4dc8-a0a7-46321987aef6",
   "metadata": {},
   "outputs": [],
   "source": [
    "crush.qspi_action()"
   ]
  },
  {
   "cell_type": "code",
   "execution_count": null,
   "id": "50797114-bfd8-4e0f-8990-a3cc1dc93f5b",
   "metadata": {},
   "outputs": [],
   "source": [
    "bin_path = r'/cracknuts/firmware/M_Top.bit'\n",
    "\n",
    "f = open(bin_path, 'rb')"
   ]
  },
  {
   "cell_type": "code",
   "execution_count": null,
   "id": "db39ba7c-2db4-40a0-b4b1-f6ecb641adac",
   "metadata": {},
   "outputs": [],
   "source": [
    "bs = f.read(0x115)"
   ]
  },
  {
   "cell_type": "code",
   "execution_count": null,
   "id": "b628a521-94c8-45e5-b3ad-a92a26c2daa7",
   "metadata": {},
   "outputs": [],
   "source": [
    "bs.hex(' ')"
   ]
  },
  {
   "cell_type": "code",
   "execution_count": null,
   "id": "d1919abc-b9b3-4b10-a16b-d8f25bbcd007",
   "metadata": {},
   "outputs": [],
   "source": [
    "fix_data = bs"
   ]
  },
  {
   "cell_type": "code",
   "execution_count": null,
   "id": "954f7e51-4937-49c7-808e-c38c5a9d0b39",
   "metadata": {},
   "outputs": [],
   "source": [
    "fix_data"
   ]
  },
  {
   "cell_type": "code",
   "execution_count": null,
   "id": "0950a29e-1df6-4276-9869-98f0e6d68cff",
   "metadata": {},
   "outputs": [],
   "source": [
    "crush.qspi_reset()"
   ]
  },
  {
   "cell_type": "code",
   "execution_count": 4,
   "id": "1d168d67-d48d-4fa0-bb69-c0fd0a3eeacb",
   "metadata": {},
   "outputs": [
    {
     "data": {
      "text/plain": [
       "(0, None)"
      ]
     },
     "execution_count": 4,
     "metadata": {},
     "output_type": "execute_result"
    }
   ],
   "source": [
    "crush.uart_io_enable()\n"
   ]
  },
  {
   "cell_type": "code",
   "execution_count": 5,
   "id": "36fb5886-f0ce-4632-b772-8a8e0c6243d6",
   "metadata": {},
   "outputs": [
    {
     "data": {
      "text/plain": [
       "(0, None)"
      ]
     },
     "execution_count": 5,
     "metadata": {},
     "output_type": "execute_result"
    }
   ],
   "source": [
    "crush.uart_transmit(tx_data='11', is_trigger=True)"
   ]
  },
  {
   "cell_type": "code",
   "execution_count": 12,
   "id": "4723aa41-95f1-4377-a124-1e45af374a81",
   "metadata": {},
   "outputs": [],
   "source": [
    "x = '00 11 22 33 44 55 66 77 88 99 AA BB CC DD EE FF'*2"
   ]
  },
  {
   "cell_type": "code",
   "execution_count": 13,
   "id": "842a1f58-ba75-4dc2-923a-6f59a57ba741",
   "metadata": {},
   "outputs": [
    {
     "data": {
      "text/plain": [
       "'00 11 22 33 44 55 66 77 88 99 AA BB CC DD EE FF00 11 22 33 44 55 66 77 88 99 AA BB CC DD EE FF'"
      ]
     },
     "execution_count": 13,
     "metadata": {},
     "output_type": "execute_result"
    }
   ],
   "source": [
    "x"
   ]
  },
  {
   "cell_type": "code",
   "execution_count": null,
   "id": "6d33ca8c-6ddd-4d96-8ea9-cdc5d891d848",
   "metadata": {},
   "outputs": [],
   "source": []
  }
 ],
 "metadata": {
  "kernelspec": {
   "display_name": "Python 3 (ipykernel)",
   "language": "python",
   "name": "python3"
  },
  "language_info": {
   "codemirror_mode": {
    "name": "ipython",
    "version": 3
   },
   "file_extension": ".py",
   "mimetype": "text/x-python",
   "name": "python",
   "nbconvert_exporter": "python",
   "pygments_lexer": "ipython3",
   "version": "3.12.10"
  }
 },
 "nbformat": 4,
 "nbformat_minor": 5
}
