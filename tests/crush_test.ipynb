{
 "cells": [
  {
   "cell_type": "code",
   "execution_count": null,
   "id": "0",
   "metadata": {},
   "outputs": [],
   "source": [
    "from cracknuts.cracker.crush import Crush"
   ]
  },
  {
   "cell_type": "code",
   "execution_count": null,
   "id": "1",
   "metadata": {},
   "outputs": [],
   "source": [
    "crush = Crush('192.168.0.11')\n",
    "\n",
    "crush.connect(force_update_bin=True, force_write_default_config=True)"
   ]
  },
  {
   "cell_type": "code",
   "execution_count": null,
   "id": "2",
   "metadata": {},
   "outputs": [],
   "source": [
    "crush.qspi_set_enable(True)"
   ]
  },
  {
   "cell_type": "code",
   "execution_count": null,
   "id": "3",
   "metadata": {},
   "outputs": [],
   "source": [
    "crush.qspi_set_post_delay(500000)"
   ]
  },
  {
   "cell_type": "code",
   "execution_count": null,
   "id": "4",
   "metadata": {},
   "outputs": [],
   "source": [
    "crush.qspi_set_fix_data('11 22 33 44')"
   ]
  },
  {
   "cell_type": "code",
   "execution_count": null,
   "id": "5",
   "metadata": {},
   "outputs": [],
   "source": [
    "crush.qspi_set_fab_data('AA BB CC DD')"
   ]
  },
  {
   "cell_type": "code",
   "execution_count": null,
   "id": "6",
   "metadata": {},
   "outputs": [],
   "source": [
    "crush.get_firmware_version()"
   ]
  },
  {
   "cell_type": "code",
   "execution_count": null,
   "id": "7",
   "metadata": {},
   "outputs": [],
   "source": [
    "import time\n",
    "\n",
    "while True:\n",
    "    crush.qspi_set_fix_data(fix_data)\n",
    "    crush.qspi_set_fab_data('00 11 22 33 44 55 66 77 88 99 AA BB CC DD EE FF 00 11 22 33 44 55 66 77 88 99 AA BB CC DD EE FF')\n",
    "    crush.qspi_action()\n",
    "    time.sleep(2)    "
   ]
  },
  {
   "cell_type": "code",
   "execution_count": null,
   "id": "8",
   "metadata": {},
   "outputs": [],
   "source": [
    "import random\n",
    "from cracknuts.cracker.crush import Crush\n",
    "import time\n",
    "\n",
    "crush = Crush('192.168.0.11')\n",
    "crush.connect(force_update_bin=True, force_write_default_config=True)\n",
    "\n",
    "bin_path = r'../src/cracknuts/firmware/M_Top.bit'\n",
    "f = open(bin_path, 'rb')\n",
    "fix_data = f.read(0x115)\n",
    "\n",
    "def do(s):\n",
    "    data = random.randbytes(16*8)\n",
    "    crush.qspi_set_fab_data(data)\n",
    "    crush.uart_transmit(tx_data='11', is_trigger=True)\n",
    "    crush.qspi_action()\n",
    "    time.sleep(1)\n",
    "    return {\n",
    "        'plaintext': data,\n",
    "        'ciphertext': bytes.fromhex('11223344')\n",
    "    }\n",
    "\n",
    "def init(s):\n",
    "    crush.osc_analog_disable('B')\n",
    "    crush.osc_analog_enable('A')\n",
    "    crush.osc_analog_gain('A', 50)\n",
    "    crush.osc_trigger_source('P')\n",
    "    crush.uart_io_enable()\n",
    "    crush.qspi_set_enable(True)\n",
    "    crush.qspi_set_post_delay(1000000)\n",
    "    crush.osc_sample_length(140000)\n",
    "    crush.qspi_set_fix_data(fix_data)\n",
    "    "
   ]
  },
  {
   "cell_type": "code",
   "execution_count": null,
   "id": "9",
   "metadata": {},
   "outputs": [],
   "source": [
    "import cracknuts as cn\n",
    "from cracknuts.acquisition import Acquisition\n",
    "\n",
    "acq = cn.new_acquisition(crush, init=init, do=do, trace_count=100000)\n",
    "\n",
    "cn.panel(acq)"
   ]
  },
  {
   "cell_type": "code",
   "execution_count": null,
   "id": "10",
   "metadata": {},
   "outputs": [],
   "source": [
    "crush.qspi_set_fix_data(fix_data)\n",
    "crush.qspi_set_fab_data('00 11 22 33 44 55 66 77 88 99 AA BB CC DD EE FF' * 8)\n",
    "crush.qspi_action()\n",
    "# time.sleep(0.01)  "
   ]
  },
  {
   "cell_type": "code",
   "execution_count": null,
   "id": "11",
   "metadata": {},
   "outputs": [],
   "source": [
    "crush.qspi_action()"
   ]
  },
  {
   "cell_type": "code",
   "execution_count": null,
   "id": "12",
   "metadata": {},
   "outputs": [],
   "source": [
    "bin_path = r'../src/cracknuts/firmware/M_Top.bit'\n",
    "\n",
    "f = open(bin_path, 'rb')"
   ]
  },
  {
   "cell_type": "code",
   "execution_count": null,
   "id": "13",
   "metadata": {},
   "outputs": [],
   "source": [
    "bs = f.read(0x115)"
   ]
  },
  {
   "cell_type": "code",
   "execution_count": null,
   "id": "14",
   "metadata": {},
   "outputs": [],
   "source": [
    "bs.hex(' ')"
   ]
  },
  {
   "cell_type": "code",
   "execution_count": null,
   "id": "15",
   "metadata": {},
   "outputs": [],
   "source": [
    "fix_data = bs"
   ]
  },
  {
   "cell_type": "code",
   "execution_count": null,
   "id": "16",
   "metadata": {},
   "outputs": [],
   "source": [
    "fix_data"
   ]
  },
  {
   "cell_type": "code",
   "execution_count": null,
   "id": "17",
   "metadata": {},
   "outputs": [],
   "source": [
    "crush.qspi_reset()"
   ]
  },
  {
   "cell_type": "code",
   "execution_count": null,
   "id": "18",
   "metadata": {},
   "outputs": [],
   "source": [
    "crush.uart_io_enable()\n"
   ]
  },
  {
   "cell_type": "code",
   "execution_count": null,
   "id": "19",
   "metadata": {},
   "outputs": [],
   "source": [
    "crush.uart_transmit(tx_data='11', is_trigger=True)"
   ]
  },
  {
   "cell_type": "code",
   "execution_count": null,
   "id": "20",
   "metadata": {},
   "outputs": [],
   "source": [
    "x = '00 11 22 33 44 55 66 77 88 99 AA BB CC DD EE FF'*2"
   ]
  },
  {
   "cell_type": "code",
   "execution_count": null,
   "id": "21",
   "metadata": {},
   "outputs": [],
   "source": [
    "x"
   ]
  },
  {
   "cell_type": "code",
   "execution_count": null,
   "id": "22",
   "metadata": {},
   "outputs": [],
   "source": []
  }
 ],
 "metadata": {
  "kernelspec": {
   "display_name": "Python 3 (ipykernel)",
   "language": "python",
   "name": "python3"
  },
  "language_info": {
   "codemirror_mode": {
    "name": "ipython",
    "version": 3
   },
   "file_extension": ".py",
   "mimetype": "text/x-python",
   "name": "python",
   "nbconvert_exporter": "python",
   "pygments_lexer": "ipython3",
   "version": "3.12.5"
  }
 },
 "nbformat": 4,
 "nbformat_minor": 5
}
