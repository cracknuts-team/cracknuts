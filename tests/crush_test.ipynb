{
 "cells": [
  {
   "cell_type": "code",
   "execution_count": null,
   "id": "0",
   "metadata": {},
   "outputs": [],
   "source": [
    "from cracknuts.cracker.crush import Crush\n",
    "import cracknuts as cn\n",
    "from cracknuts.acquisition import Acquisition\n",
    "import random\n",
    "from cracknuts.cracker.crush import Crush\n",
    "import time\n",
    "import os"
   ]
  },
  {
   "cell_type": "code",
   "execution_count": null,
   "id": "1",
   "metadata": {},
   "outputs": [],
   "source": [
    "crush = Crush('192.168.0.11')\n",
    "\n",
    "crush.connect(force_update_bin=True, force_write_default_config=True)"
   ]
  },
  {
   "cell_type": "code",
   "execution_count": null,
   "id": "2",
   "metadata": {},
   "outputs": [],
   "source": [
    "# 设置下发数据\n",
    "bit_type = 0\n",
    "fab_len = 64\n",
    "if bit_type == 0:\n",
    "    # 明文\n",
    "    bin_path = r'D:\\crush\\M_Top_No_AES.bit'\n",
    "    f = open(bin_path, 'rb')\n",
    "    fix_data = f.read(0x115)\n",
    "    # data=f.read(0x00216CB1-0x115)\n",
    "    data=f.read(fab_len)\n",
    "else:\n",
    "    # 密文\n",
    "    bin_path = r'D:\\crush\\M_Top.bit'\n",
    "    f = open(bin_path, 'rb')\n",
    "    fix_data = f.read(0x115)\n",
    "    # data=f.read(0x216F75-0x115)\n",
    "    data=f.read(fab_len)"
   ]
  },
  {
   "cell_type": "code",
   "execution_count": null,
   "id": "3",
   "metadata": {},
   "outputs": [],
   "source": [
    "def do(s):\n",
    "    data = os.urandom(fab_len)\n",
    "    crush.qspi_set_fix_data(fix_data)\n",
    "    crush.qspi_set_fab_data(data)\n",
    "    crush.qspi_action()\n",
    "    time.sleep(2)  \n",
    "    return {\n",
    "        'plaintext': data,\n",
    "        'ciphertext': bytes.fromhex('1122'),\n",
    "        'key': bytes.fromhex('aabb'),\n",
    "    }\n",
    "\n",
    "def init(s):\n",
    "    crush.osc_analog_disable('B')\n",
    "    crush.osc_analog_enable('A')\n",
    "    crush.osc_analog_gain('A', 50)\n",
    "    crush.osc_trigger_source('P')\n",
    "    crush.osc_sample_length(20000)\n",
    "    crush.qspi_set_enable(True)\n",
    "    # crush.qspi_set_post_delay(10_000)\n",
    "    crush.qspi_set_post_delay(1000_000)\n",
    "    "
   ]
  },
  {
   "cell_type": "code",
   "execution_count": null,
   "id": "4",
   "metadata": {},
   "outputs": [],
   "source": [
    "acq = cn.new_acquisition(crush, init=init, do=do, trace_count=1000, trigger_judge_timeout=10, trace_fetch_interval=0.1)\n",
    "\n",
    "cn.panel(acq)"
   ]
  },
  {
   "cell_type": "code",
   "execution_count": null,
   "id": "5",
   "metadata": {},
   "outputs": [],
   "source": [
    "acq.trace_fetch_interval"
   ]
  },
  {
   "cell_type": "code",
   "execution_count": null,
   "id": "6",
   "metadata": {},
   "outputs": [],
   "source": [
    "crush.register_read(base_address=0x11, offset=0x11)"
   ]
  },
  {
   "cell_type": "code",
   "execution_count": null,
   "id": "7",
   "metadata": {},
   "outputs": [],
   "source": [
    "crush.get_firmware_info()"
   ]
  },
  {
   "cell_type": "code",
   "execution_count": null,
   "id": "8",
   "metadata": {},
   "outputs": [],
   "source": [
    "crush.get_firmware_version()"
   ]
  },
  {
   "cell_type": "code",
   "execution_count": null,
   "id": "9",
   "metadata": {},
   "outputs": [],
   "source": [
    "################################################## 手动测试 #####################################"
   ]
  },
  {
   "cell_type": "code",
   "execution_count": null,
   "id": "10",
   "metadata": {},
   "outputs": [],
   "source": [
    "from cracknuts.cracker.crush import Crush"
   ]
  },
  {
   "cell_type": "code",
   "execution_count": null,
   "id": "11",
   "metadata": {},
   "outputs": [],
   "source": [
    "bit_type = 0\n",
    "fab_len = 64\n",
    "if bit_type == 0:\n",
    "    # 明文\n",
    "    # bin_path = r'D:\\crush\\M_Top.bit'\n",
    "    bin_path = r'D:\\crush\\M_Top_No_AES.bit'\n",
    "    f = open(bin_path, 'rb')\n",
    "    fix_data = f.read(0x115)\n",
    "    # data=f.read(0x00216CB1-0x115)\n",
    "    data=f.read(fab_len)\n",
    "    # print(f'{len(fix_data)}:{len(data)}')\n",
    "    print(f'{fix_data[-8:].hex(\" \")}')\n",
    "    print(f'{data[:8].hex(\" \")}')\n",
    "    print(data[-8:].hex(' '))\n",
    "else:\n",
    "    # 密文\n",
    "    bin_path = r'D:\\crush\\M_Top.bit'\n",
    "    # bin_path = r'D:\\crush\\M_Top_No_AES.bit'\n",
    "    f = open(bin_path, 'rb')\n",
    "    fix_data = f.read(0x115)\n",
    "    # data=f.read(0x216F75-0x115)\n",
    "    data=f.read(fab_len)\n",
    "    # print(f'{len(fix_data)}:{len(data)}')\n",
    "    print(f'{fix_data[-8:].hex(\" \")}')\n",
    "    print(f'{data[:8].hex(\" \")}')\n",
    "    print(data[-4:].hex(' '))"
   ]
  },
  {
   "cell_type": "code",
   "execution_count": null,
   "id": "12",
   "metadata": {},
   "outputs": [],
   "source": [
    "# bit_type = 1\n",
    "# if bit_type == 0:\n",
    "#     # 明文\n",
    "#     # bin_path = r'D:\\crush\\M_Top.bit'\n",
    "#     bin_path = r'D:\\crush\\M_Top_No_AES.bit'\n",
    "#     f = open(bin_path, 'rb')\n",
    "#     fix_data = f.read(0x115)\n",
    "#     data=f.read(0x00216CB1-0x115)\n",
    "#     # print(f'{len(fix_data)}:{len(data)}')\n",
    "#     print(f'{fix_data[-8:].hex(\" \")}')\n",
    "#     print(f'{data[:8].hex(\" \")}')\n",
    "#     print(data[-8:].hex(' '))\n",
    "# else:\n",
    "#     # 密文\n",
    "#     bin_path = r'D:\\crush\\M_Top.bit'\n",
    "#     # bin_path = r'D:\\crush\\M_Top_No_AES.bit'\n",
    "#     f = open(bin_path, 'rb')\n",
    "#     fix_data = f.read(0x115)\n",
    "#     data=f.read(0x216F75-0x115)\n",
    "#     # print(f'{len(fix_data)}:{len(data)}')\n",
    "#     print(f'{fix_data[-8:].hex(\" \")}')\n",
    "#     print(f'{data[:8].hex(\" \")}')\n",
    "#     print(data[-4:].hex(' '))"
   ]
  },
  {
   "cell_type": "code",
   "execution_count": null,
   "id": "13",
   "metadata": {},
   "outputs": [],
   "source": [
    "data[:4].hex(' ')"
   ]
  },
  {
   "cell_type": "code",
   "execution_count": null,
   "id": "14",
   "metadata": {},
   "outputs": [],
   "source": [
    "crush = Crush('192.168.0.11')\n",
    "\n",
    "crush.connect(force_update_bin=True, force_write_default_config=True)"
   ]
  },
  {
   "cell_type": "code",
   "execution_count": null,
   "id": "15",
   "metadata": {},
   "outputs": [],
   "source": [
    "crush.qspi_set_enable(True)\n",
    "# crush.qspi_set_post_delay(10_00_000_000)\n",
    "crush.qspi_set_post_delay(10_000)"
   ]
  },
  {
   "cell_type": "code",
   "execution_count": null,
   "id": "16",
   "metadata": {},
   "outputs": [],
   "source": [
    "# crush.qspi_set_fix_data(fix_data)\n",
    "# crush.qspi_set_fab_data(data)\n",
    "# # crush.qspi_write_buffer(base_addr=0x3fc00000, offset=0x0, data=data)\n",
    "# crush.qspi_action()\n",
    "# # time.sleep(0.01)  "
   ]
  },
  {
   "cell_type": "code",
   "execution_count": null,
   "id": "17",
   "metadata": {},
   "outputs": [],
   "source": [
    "# crush.qspi_action()"
   ]
  },
  {
   "cell_type": "code",
   "execution_count": null,
   "id": "18",
   "metadata": {},
   "outputs": [],
   "source": [
    "import time\n",
    "\n",
    "i = 1000\n",
    "while i > 0:\n",
    "    print(i)\n",
    "    crush.qspi_set_fix_data(fix_data)\n",
    "    crush.qspi_set_fab_data(data)\n",
    "    crush.qspi_action()\n",
    "    time.sleep(2)\n",
    "    i -= 1\n",
    "    "
   ]
  },
  {
   "cell_type": "code",
   "execution_count": null,
   "id": "19",
   "metadata": {},
   "outputs": [],
   "source": [
    "from cracknuts import logger\n",
    "\n",
    "logger.set_level('warn')\n",
    "crush.set_logger_debug_payload_max_length(2560)"
   ]
  },
  {
   "cell_type": "code",
   "execution_count": null,
   "id": "20",
   "metadata": {},
   "outputs": [],
   "source": [
    "crush.qspi_write_buffer(base_addr=0x3fc00000, offset=0x0, data='aa 11 22 33 44')"
   ]
  },
  {
   "cell_type": "code",
   "execution_count": null,
   "id": "21",
   "metadata": {},
   "outputs": [],
   "source": [
    "crush.register_read(base_address=0x43c10000, offset=0x20C)[1].hex(' ')"
   ]
  },
  {
   "cell_type": "code",
   "execution_count": null,
   "id": "22",
   "metadata": {},
   "outputs": [],
   "source": [
    "pt = cn.panel_trace()"
   ]
  },
  {
   "cell_type": "code",
   "execution_count": null,
   "id": "23",
   "metadata": {},
   "outputs": [],
   "source": [
    "from cracknuts.trace.trace import ZarrTraceDataset\n",
    "\n",
    "zds = ZarrTraceDataset.load(r'D:\\project\\cracknuts\\tests\\dataset\\20250927191009.zarr')\n",
    "pt.set_trace_dataset(zds)"
   ]
  },
  {
   "cell_type": "code",
   "execution_count": null,
   "id": "24",
   "metadata": {},
   "outputs": [],
   "source": [
    "pt"
   ]
  },
  {
   "cell_type": "code",
   "execution_count": null,
   "id": "25",
   "metadata": {},
   "outputs": [],
   "source": [
    "pt.change_percent_range(30,32)"
   ]
  },
  {
   "cell_type": "code",
   "execution_count": null,
   "id": "26",
   "metadata": {},
   "outputs": [],
   "source": [
    "pt.show_all_trace()"
   ]
  },
  {
   "cell_type": "code",
   "execution_count": null,
   "id": "27",
   "metadata": {},
   "outputs": [],
   "source": []
  }
 ],
 "metadata": {
  "kernelspec": {
   "display_name": "Python 3 (ipykernel)",
   "language": "python",
   "name": "python3"
  },
  "language_info": {
   "codemirror_mode": {
    "name": "ipython",
    "version": 3
   },
   "file_extension": ".py",
   "mimetype": "text/x-python",
   "name": "python",
   "nbconvert_exporter": "python",
   "pygments_lexer": "ipython3",
   "version": "3.12.5"
  }
 },
 "nbformat": 4,
 "nbformat_minor": 5
}
