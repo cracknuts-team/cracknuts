{
 "cells": [
  {
   "cell_type": "code",
   "execution_count": null,
   "id": "0",
   "metadata": {},
   "outputs": [],
   "source": [
    "from cracknuts.cracker import CrackerG1\n",
    "from cracknuts.jupyter.cracker_g1_panel import CrackerG1Panel"
   ]
  },
  {
   "cell_type": "code",
   "execution_count": null,
   "id": "1",
   "metadata": {},
   "outputs": [],
   "source": [
    "cracker = CrackerG1('192.168.0.21')"
   ]
  },
  {
   "cell_type": "code",
   "execution_count": null,
   "id": "2",
   "metadata": {},
   "outputs": [],
   "source": [
    "cracker.connect(force_update_bin=True, force_write_default_config=True)"
   ]
  },
  {
   "cell_type": "code",
   "execution_count": null,
   "id": "3",
   "metadata": {},
   "outputs": [],
   "source": [
    "import random\n",
    "import time\n",
    "from cracknuts.cracker import serial\n",
    "\n",
    "\n",
    "cmd_set_aes_enc_key = \"01 00 00 00 00 00 00 10\"\n",
    "cmd_aes_enc = \"01 02 00 00 00 00 00 10\"\n",
    "\n",
    "aes_key = \"11 22 33 44 55 66 77 88 99 00 aa bb cc dd ee ff\"\n",
    "aes_data_len = 16\n",
    "\n",
    "sample_length = 20000\n",
    "\n",
    "def init():\n",
    "    cracker.nut_voltage_enable()\n",
    "    cracker.nut_voltage(3.3)\n",
    "    cracker.nut_clock_enable()\n",
    "    cracker.nut_clock_freq('8M')\n",
    "    cracker.uart_io_enable()\n",
    "    cracker.osc_sample_clock('48m')\n",
    "    cracker.osc_sample_length(sample_length)\n",
    "    cracker.osc_trigger_source('N')\n",
    "    cracker.osc_analog_gain('B', 10)\n",
    "    cracker.osc_trigger_level(0)\n",
    "    cracker.osc_trigger_mode('E')\n",
    "    cracker.osc_trigger_edge('U')\n",
    "    cracker.uart_config(baudrate=serial.Baudrate.BAUDRATE_115200, bytesize=serial.Bytesize.EIGHTBITS, parity=serial.Parity.PARITY_NONE, stopbits=serial.Stopbits.STOPBITS_ONE)\n",
    "\n",
    "    time.sleep(2)\n",
    "    cmd = cmd_set_aes_enc_key + aes_key\n",
    "    status, ret = cracker.uart_transmit_receive(cmd, timeout=1000, rx_count=6)\n",
    "\n",
    "def do(count):\n",
    "    plaintext_data = random.randbytes(aes_data_len)\n",
    "    tx_data = bytes.fromhex(cmd_aes_enc.replace(' ', '')) + plaintext_data\n",
    "    # cracker.glitch_vcc_arm()\n",
    "    status, ret = cracker.uart_transmit_receive(tx_data, rx_count= 6 + aes_data_len, is_trigger=True)\n",
    "    return {\n",
    "        \"plaintext\": plaintext_data,\n",
    "        \"ciphertext\": ret[-aes_data_len:],\n",
    "        \"key\": bytes.fromhex(aes_key),\n",
    "        \"glitch_status\": 1\n",
    "    }\n",
    "\n",
    "\n",
    "def finish():\n",
    "    ...\n",
    "    # print('optional behavior')\n",
    "\n",
    "\n",
    "\n",
    "p = CrackerG1Panel.builder()\\\n",
    "    .with_cracker(cracker)\\\n",
    "    .with_acquisition(init=init, do=do, finish=finish)\\\n",
    "    .build()\n",
    "\n",
    "p"
   ]
  },
  {
   "cell_type": "code",
   "execution_count": null,
   "id": "4",
   "metadata": {},
   "outputs": [],
   "source": [
    "# cracker.glitch_gnd_normal(0.1)\n",
    "# cracker.glitch_vcc_normal(3.5)\n",
    "\n",
    "cracker.glitch_vcc_config(level=1.5, wait=100, delay=100, repeat=1, count=200)\n"
   ]
  },
  {
   "cell_type": "code",
   "execution_count": null,
   "id": "5",
   "metadata": {},
   "outputs": [],
   "source": [
    "cracker.glitch_vcc_force()"
   ]
  },
  {
   "cell_type": "code",
   "execution_count": null,
   "id": "6",
   "metadata": {},
   "outputs": [],
   "source": [
    "p.acquisition.shadow_trace_count"
   ]
  },
  {
   "cell_type": "code",
   "execution_count": null,
   "id": "7",
   "metadata": {},
   "outputs": [],
   "source": [
    "from cracknuts.jupyter.glitch_test_result_analysis_panel import GlitchTestResultAnalysisPanel\n",
    "\n",
    "ap = GlitchTestResultAnalysisPanel(r\"D:\\project\\cracknuts\\tests\\dataset\\20251016170714.db\")\n",
    "ap"
   ]
  },
  {
   "cell_type": "code",
   "execution_count": null,
   "id": "8",
   "metadata": {},
   "outputs": [],
   "source": []
  }
 ],
 "metadata": {
  "kernelspec": {
   "display_name": "Python 3 (ipykernel)",
   "language": "python",
   "name": "python3"
  },
  "language_info": {
   "codemirror_mode": {
    "name": "ipython",
    "version": 3
   },
   "file_extension": ".py",
   "mimetype": "text/x-python",
   "name": "python",
   "nbconvert_exporter": "python",
   "pygments_lexer": "ipython3",
   "version": "3.12.5"
  }
 },
 "nbformat": 4,
 "nbformat_minor": 5
}
