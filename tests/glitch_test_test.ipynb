{
 "cells": [
  {
   "cell_type": "code",
   "execution_count": null,
   "id": "0",
   "metadata": {},
   "outputs": [],
   "source": [
    "from cracknuts import CrackerG1"
   ]
  },
  {
   "cell_type": "code",
   "execution_count": null,
   "id": "1",
   "metadata": {},
   "outputs": [],
   "source": [
    "g1 = CrackerG1('192.168.0.21')\n",
    "g1.connect(force_update_bin=True, force_write_default_config=True)"
   ]
  },
  {
   "cell_type": "code",
   "execution_count": null,
   "id": "2",
   "metadata": {},
   "outputs": [],
   "source": [
    "import cracknuts as cn"
   ]
  },
  {
   "cell_type": "code",
   "execution_count": null,
   "id": "3",
   "metadata": {},
   "outputs": [],
   "source": [
    "import random\n",
    "import time\n",
    "from cracknuts.cracker import serial\n",
    "\n",
    "\n",
    "cmd_set_aes_enc_key = \"01 00 00 00 00 00 00 10\"\n",
    "cmd_aes_enc = \"01 02 00 00 00 00 00 10\"\n",
    "\n",
    "aes_key = \"11 22 33 44 55 66 77 88 99 00 aa bb cc dd ee ff\"\n",
    "aes_data_len = 16\n",
    "\n",
    "sample_length = 20000\n",
    "\n",
    "def init(c: CrackerG1):\n",
    "    c.nut_voltage_enable()\n",
    "    c.nut_voltage(3.3)\n",
    "    c.nut_clock_enable()\n",
    "    c.nut_clock_freq('8M')\n",
    "    c.uart_io_enable()\n",
    "    c.osc_sample_clock('48m')\n",
    "    c.osc_sample_length(sample_length)\n",
    "    c.osc_trigger_source('N')\n",
    "    c.osc_analog_gain('B', 10)\n",
    "    c.osc_trigger_level(0)\n",
    "    c.osc_trigger_mode('E')\n",
    "    c.osc_trigger_edge('U')\n",
    "    c.uart_config(baudrate=serial.Baudrate.BAUDRATE_115200, bytesize=serial.Bytesize.EIGHTBITS, parity=serial.Parity.PARITY_NONE, stopbits=serial.Stopbits.STOPBITS_ONE)\n",
    "\n",
    "    time.sleep(2)\n",
    "    cmd = cmd_set_aes_enc_key + aes_key\n",
    "    status, ret = c.uart_transmit_receive(cmd, timeout=1000, rx_count=6)\n",
    "\n",
    "def do(c: CrackerG1, count: int):\n",
    "    plaintext_data = random.randbytes(aes_data_len)\n",
    "    tx_data = bytes.fromhex(cmd_aes_enc.replace(' ', '')) + plaintext_data\n",
    "    status, ret = c.uart_transmit_receive(tx_data, rx_count= 6 + aes_data_len, is_trigger=True)\n",
    "    \n",
    "    return {\n",
    "        \"plaintext\": plaintext_data,\n",
    "        \"ciphertext\": ret[-aes_data_len:],\n",
    "        \"key\": bytes.fromhex(aes_key)\n",
    "    }\n",
    "\n",
    "\n",
    "def finish(c):\n",
    "    ...\n",
    "    # print('optional behavior')\n",
    "\n",
    "\n",
    "acq = cn.new_acquisition(g1, init=init, do=do, finish=finish)"
   ]
  },
  {
   "cell_type": "code",
   "execution_count": null,
   "id": "4",
   "metadata": {},
   "outputs": [],
   "source": [
    "cn.panel(acq)"
   ]
  },
  {
   "cell_type": "code",
   "execution_count": null,
   "id": "5",
   "metadata": {},
   "outputs": [],
   "source": [
    "from cracknuts.cracker import CrackerS1\n",
    "\n",
    "CrackerS1.nut_voltage(g1, 3.5)\n",
    "g1.nut_voltage_enable()"
   ]
  },
  {
   "cell_type": "code",
   "execution_count": null,
   "id": "6",
   "metadata": {},
   "outputs": [],
   "source": [
    "g1.nut_voltage(3.5)\n",
    "g1.nut_voltage_enable()"
   ]
  },
  {
   "cell_type": "code",
   "execution_count": null,
   "id": "7",
   "metadata": {},
   "outputs": [],
   "source": [
    "g1.get_current_config()"
   ]
  },
  {
   "cell_type": "code",
   "execution_count": null,
   "id": "8",
   "metadata": {},
   "outputs": [],
   "source": [
    "g1.glitch_vcc_arm()\n",
    "g1.glitch_vcc_normal(3.5)"
   ]
  }
 ],
 "metadata": {
  "kernelspec": {
   "display_name": "Python 3 (ipykernel)",
   "language": "python",
   "name": "python3"
  },
  "language_info": {
   "codemirror_mode": {
    "name": "ipython",
    "version": 3
   },
   "file_extension": ".py",
   "mimetype": "text/x-python",
   "name": "python",
   "nbconvert_exporter": "python",
   "pygments_lexer": "ipython3",
   "version": "3.12.5"
  }
 },
 "nbformat": 4,
 "nbformat_minor": 5
}
