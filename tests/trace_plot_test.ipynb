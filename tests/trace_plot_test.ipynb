{
 "cells": [
  {
   "cell_type": "code",
   "execution_count": 1,
   "id": "2002c6f3-be6b-45f5-8758-41f463ac5857",
   "metadata": {},
   "outputs": [],
   "source": [
    "from cracknuts.trace.trace import ZarrTraceDataset"
   ]
  },
  {
   "cell_type": "code",
   "execution_count": 2,
   "id": "f4b0c0c1-6b66-4a4a-aa44-91a37e8e439c",
   "metadata": {},
   "outputs": [],
   "source": [
    "zts = ZarrTraceDataset.load(r'D:\\work\\ahcc\\90.project\\cracknuts\\demo\\jupyter\\dataset\\20250509174950.zarr')"
   ]
  },
  {
   "cell_type": "code",
   "execution_count": 3,
   "id": "3ab1e4f3-af04-43a9-a269-ae42efb8d414",
   "metadata": {},
   "outputs": [],
   "source": [
    "p = zts.plot()\n",
    "p.show_trace(0, slice(0, 10, 2))"
   ]
  },
  {
   "cell_type": "code",
   "execution_count": 4,
   "id": "4e9d9e71-95a5-4d5e-9c5d-43d65fa171f7",
   "metadata": {},
   "outputs": [
    {
     "data": {
      "text/html": [
       "\n",
       "        <iframe\n",
       "            width=\"100%\"\n",
       "            height=\"368\"\n",
       "            src=\"http://127.0.0.1:8050/\"\n",
       "            frameborder=\"0\"\n",
       "            allowfullscreen\n",
       "            \n",
       "        ></iframe>\n",
       "        "
      ],
      "text/plain": [
       "<IPython.lib.display.IFrame at 0x1c785c71f70>"
      ]
     },
     "metadata": {},
     "output_type": "display_data"
    }
   ],
   "source": [
    "p.plot_line()"
   ]
  },
  {
   "cell_type": "code",
   "execution_count": 5,
   "id": "a2c50776-5784-4074-9436-ec985c35baad",
   "metadata": {},
   "outputs": [],
   "source": [
    "p.show_trace(0, slice(2,3))"
   ]
  },
  {
   "cell_type": "code",
   "execution_count": null,
   "id": "4a991fff-d8c6-4ea5-8c35-11cf67cce866",
   "metadata": {},
   "outputs": [],
   "source": [
    "import numpy as np\n",
    "\n",
    "a1 = np.arange(0, 10).reshape(-1, 5)\n",
    "a2 = np.arange(10, 20).reshape(-1, 5)\n",
    "\n",
    "a1.shape, a2.shape"
   ]
  },
  {
   "cell_type": "code",
   "execution_count": null,
   "id": "48d811de-bb7f-4aca-8bb1-4095c405a60a",
   "metadata": {},
   "outputs": [],
   "source": [
    "a1 = np.arange(0, 10)\n",
    "a2 = np.arange(10, 20)\n",
    "\n",
    "np.vstack([a1, a2])"
   ]
  }
 ],
 "metadata": {
  "kernelspec": {
   "display_name": "Python 3 (ipykernel)",
   "language": "python",
   "name": "python3"
  },
  "language_info": {
   "codemirror_mode": {
    "name": "ipython",
    "version": 3
   },
   "file_extension": ".py",
   "mimetype": "text/x-python",
   "name": "python",
   "nbconvert_exporter": "python",
   "pygments_lexer": "ipython3",
   "version": "3.12.10"
  }
 },
 "nbformat": 4,
 "nbformat_minor": 5
}
