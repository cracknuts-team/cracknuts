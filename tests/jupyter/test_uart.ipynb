{
 "cells": [
  {
   "cell_type": "code",
   "execution_count": null,
   "id": "0",
   "metadata": {},
   "outputs": [],
   "source": [
    "import cracknuts as cn\n",
    "from cracknuts import CrackerS1\n",
    "from cracknuts.cracker import serial"
   ]
  },
  {
   "cell_type": "code",
   "execution_count": null,
   "id": "1",
   "metadata": {},
   "outputs": [],
   "source": [
    "s1: CrackerS1 = cn.new_cracker('192.168.0.10')"
   ]
  },
  {
   "cell_type": "code",
   "execution_count": null,
   "id": "2",
   "metadata": {},
   "outputs": [],
   "source": [
    "s1.connect(force_update_bin=True, force_write_default_config=True)"
   ]
  },
  {
   "cell_type": "markdown",
   "id": "3",
   "metadata": {},
   "source": [
    "### 外部信号注入法验证管脚状态\n",
    "\n",
    "- **步骤 1**  \n",
    "  - **操作**：  \n",
    "    采用外部信号注入法：  \n",
    "    使用一个 PicoScope 的信号发生器功能，通过 1kΩ 电阻向 TX/RX 管脚施加已知电平波形；  \n",
    "    用示波器观察管脚的电压波形变化。\n",
    "  \n",
    "  - **预期结果**：  \n",
    "    - 在**高阻态**时：波形能被完整“传递”到管脚。  \n",
    "    - 在**驱动输出态**时：波形会被拉向 FPGA 当前输出的高或低电平，受外部注入信号影响很小甚至无影响。  \n",
    "    - **总体预期**：TX 电平不变，RX 电平随信号发生器改变。\n",
    "\n",
    "  - **测试结果**：  \n",
    "    （此处填写实际测试结果）\n",
    "\n"
   ]
  },
  {
   "cell_type": "code",
   "execution_count": null,
   "id": "4",
   "metadata": {},
   "outputs": [],
   "source": [
    "s1.uart_io_enable()"
   ]
  },
  {
   "cell_type": "code",
   "execution_count": null,
   "id": "5",
   "metadata": {},
   "outputs": [],
   "source": [
    "s1.uart_io_disable()"
   ]
  },
  {
   "cell_type": "code",
   "execution_count": null,
   "id": "6",
   "metadata": {},
   "outputs": [],
   "source": [
    "s1.nut_voltage_enable()"
   ]
  },
  {
   "cell_type": "code",
   "execution_count": null,
   "id": "7",
   "metadata": {},
   "outputs": [],
   "source": [
    "s1.nut_voltage_disable()"
   ]
  },
  {
   "cell_type": "code",
   "execution_count": null,
   "id": "8",
   "metadata": {},
   "outputs": [],
   "source": [
    "s1.set_logging_level('debug')"
   ]
  },
  {
   "cell_type": "code",
   "execution_count": null,
   "id": "9",
   "metadata": {},
   "outputs": [],
   "source": [
    "s1.register_read(0x43c10000, 0x44)"
   ]
  },
  {
   "cell_type": "code",
   "execution_count": null,
   "id": "10",
   "metadata": {},
   "outputs": [],
   "source": [
    "s1.get_hardware_model()"
   ]
  },
  {
   "cell_type": "code",
   "execution_count": null,
   "id": "11",
   "metadata": {},
   "outputs": [],
   "source": [
    "s1.get_firmware_version()"
   ]
  },
  {
   "cell_type": "code",
   "execution_count": null,
   "id": "12",
   "metadata": {},
   "outputs": [],
   "source": [
    "s1.uart_transmit(tx_data='11 22 33 44')"
   ]
  },
  {
   "cell_type": "markdown",
   "id": "13",
   "metadata": {},
   "source": [
    "### UART_CONFIG"
   ]
  },
  {
   "cell_type": "markdown",
   "id": "14",
   "metadata": {},
   "source": [
    "默认： 115200 stop=1 parity=None"
   ]
  },
  {
   "cell_type": "code",
   "execution_count": null,
   "id": "15",
   "metadata": {},
   "outputs": [],
   "source": [
    "s1.uart_transmit(tx_data='11 22 33 00', is_trigger=True)"
   ]
  },
  {
   "cell_type": "code",
   "execution_count": null,
   "id": "16",
   "metadata": {},
   "outputs": [],
   "source": [
    "s1.osc_trigger_source('P')"
   ]
  },
  {
   "cell_type": "code",
   "execution_count": null,
   "id": "17",
   "metadata": {},
   "outputs": [],
   "source": [
    "s1.uart_transmit_receive(tx_data='22', is_trigger=True, timeout=10000, rx_count=1)"
   ]
  },
  {
   "cell_type": "code",
   "execution_count": null,
   "id": "18",
   "metadata": {},
   "outputs": [],
   "source": [
    "s1.uart_transmit_receive(tx_data='22', is_trigger=False, timeout=10000, rx_count=1)"
   ]
  },
  {
   "cell_type": "code",
   "execution_count": null,
   "id": "19",
   "metadata": {},
   "outputs": [],
   "source": [
    "s1.uart_receive(rx_count=4, is_trigger=True, timeout=10000)"
   ]
  },
  {
   "cell_type": "code",
   "execution_count": null,
   "id": "20",
   "metadata": {},
   "outputs": [],
   "source": [
    "s1.uart_config(parity=serial.Parity.PARITY_ODD)"
   ]
  },
  {
   "cell_type": "code",
   "execution_count": null,
   "id": "21",
   "metadata": {},
   "outputs": [],
   "source": [
    "s1.uart_config(parity=serial.Parity.PARITY_EVEN)"
   ]
  },
  {
   "cell_type": "code",
   "execution_count": null,
   "id": "22",
   "metadata": {},
   "outputs": [],
   "source": [
    "s1.uart_config(parity=serial.Parity.PARITY_NONE)"
   ]
  },
  {
   "cell_type": "code",
   "execution_count": null,
   "id": "23",
   "metadata": {},
   "outputs": [],
   "source": [
    "s1.get_current_config()"
   ]
  }
 ],
 "metadata": {
  "kernelspec": {
   "display_name": "Python 3 (ipykernel)",
   "language": "python",
   "name": "python3"
  },
  "language_info": {
   "codemirror_mode": {
    "name": "ipython",
    "version": 3
   },
   "file_extension": ".py",
   "mimetype": "text/x-python",
   "name": "python",
   "nbconvert_exporter": "python",
   "pygments_lexer": "ipython3",
   "version": "3.12.5"
  }
 },
 "nbformat": 4,
 "nbformat_minor": 5
}
