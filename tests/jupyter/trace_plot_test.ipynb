{
 "cells": [
  {
   "cell_type": "code",
   "execution_count": null,
   "id": "0",
   "metadata": {},
   "outputs": [],
   "source": [
    "from cracknuts.trace.trace import ZarrTraceDataset"
   ]
  },
  {
   "cell_type": "code",
   "execution_count": null,
   "id": "1",
   "metadata": {},
   "outputs": [],
   "source": [
    "zts = ZarrTraceDataset.load(r'D:\\project\\cracknuts\\demo\\jupyter\\dataset\\20250521110621(aes).zarr')"
   ]
  },
  {
   "cell_type": "code",
   "execution_count": null,
   "id": "2",
   "metadata": {},
   "outputs": [],
   "source": [
    "p = zts.plot()\n",
    "p.show_trace(0, slice(0, 10, 2))"
   ]
  },
  {
   "cell_type": "code",
   "execution_count": null,
   "id": "3",
   "metadata": {},
   "outputs": [],
   "source": [
    "p.plot_line()"
   ]
  },
  {
   "cell_type": "code",
   "execution_count": null,
   "id": "4",
   "metadata": {},
   "outputs": [],
   "source": [
    "p.show_trace(0, slice(2))\n",
    "# p.plot_line()"
   ]
  },
  {
   "cell_type": "code",
   "execution_count": null,
   "id": "5",
   "metadata": {},
   "outputs": [],
   "source": [
    "p.show_trace(0, slice(20, 25))"
   ]
  },
  {
   "cell_type": "code",
   "execution_count": null,
   "id": "6",
   "metadata": {},
   "outputs": [],
   "source": [
    "p.show_trace(0, slice(256))"
   ]
  },
  {
   "cell_type": "code",
   "execution_count": null,
   "id": "7",
   "metadata": {},
   "outputs": [],
   "source": [
    "p.show_trace([0],slice(10,15))"
   ]
  },
  {
   "cell_type": "code",
   "execution_count": null,
   "id": "8",
   "metadata": {},
   "outputs": [],
   "source": [
    "p.plot_line()"
   ]
  },
  {
   "cell_type": "code",
   "execution_count": null,
   "id": "9",
   "metadata": {},
   "outputs": [],
   "source": [
    "p._fig.data = p._fig.data[:1]"
   ]
  },
  {
   "cell_type": "code",
   "execution_count": null,
   "id": "10",
   "metadata": {},
   "outputs": [],
   "source": [
    "def _slice_to_list(s: slice, length: int = None):\n",
    "    \"\"\"\n",
    "    将 slice 对象展开为一个 list。\n",
    "\n",
    "    参数:\n",
    "        s (slice): 需要展开的切片对象\n",
    "        length (int, 可选): 当 slice.stop 为 None 时，需要给定序列长度，用于确定范围。\n",
    "\n",
    "    返回:\n",
    "        list: 按 slice 展开的列表\n",
    "    \"\"\"\n",
    "    start = s.start or 0\n",
    "    step = s.step or 1\n",
    "\n",
    "    if s.stop is None:\n",
    "        if length is None:\n",
    "            raise ValueError(\"slice.stop 为 None 时必须指定 length\")\n",
    "        stop = length\n",
    "    else:\n",
    "        stop = s.stop\n",
    "\n",
    "    return list(range(start, stop, step))\n"
   ]
  },
  {
   "cell_type": "code",
   "execution_count": null,
   "id": "11",
   "metadata": {},
   "outputs": [],
   "source": [
    "_slice_to_list(slice(10,20))"
   ]
  }
 ],
 "metadata": {
  "kernelspec": {
   "display_name": "Python 3 (ipykernel)",
   "language": "python",
   "name": "python3"
  },
  "language_info": {
   "codemirror_mode": {
    "name": "ipython",
    "version": 3
   },
   "file_extension": ".py",
   "mimetype": "text/x-python",
   "name": "python",
   "nbconvert_exporter": "python",
   "pygments_lexer": "ipython3",
   "version": "3.12.5"
  }
 },
 "nbformat": 4,
 "nbformat_minor": 5
}
