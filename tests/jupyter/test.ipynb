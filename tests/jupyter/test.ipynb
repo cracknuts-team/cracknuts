{
 "cells": [
  {
   "cell_type": "code",
   "execution_count": null,
   "id": "0",
   "metadata": {},
   "outputs": [],
   "source": [
    "import time\n",
    "\n",
    "from cracknuts.cracker.cracker_s1 import CrackerS1\n",
    "\n",
    "cracker = CrackerS1('192.168.0.10')\n",
    "cracker.connect()\n",
    "cracker.get_id()"
   ]
  },
  {
   "cell_type": "code",
   "execution_count": null,
   "id": "1",
   "metadata": {},
   "outputs": [],
   "source": [
    "from cracknuts.acquisition import  AcquisitionBuilder\n",
    "from cracknuts.jupyter import display_acquisition_panel\n",
    "\n",
    "def init(c):\n",
    "    ...\n",
    "\n",
    "def do(c):\n",
    "    time.sleep(1)\n",
    "    return b'123123'\n",
    "\n",
    "acq = AcquisitionBuilder().init(init).do(do).cracker(cracker).build()\n",
    "\n",
    "display_acquisition_panel(acq)\n"
   ]
  },
  {
   "cell_type": "code",
   "execution_count": null,
   "id": "2",
   "metadata": {},
   "outputs": [],
   "source": [
    "import cracknuts as cn\n",
    "\n",
    "cracker = cn.new_cracker('192.168.0.10')\n",
    "cracker.connect()\n",
    "cracker.get_id()\n",
    "\n",
    "# cracker"
   ]
  },
  {
   "cell_type": "code",
   "execution_count": null,
   "id": "3",
   "metadata": {},
   "outputs": [],
   "source": [
    "import cracknuts as cn\n",
    "\n",
    "acq = cn.new_acquisition(cracker)\n",
    "# acq"
   ]
  },
  {
   "cell_type": "code",
   "execution_count": null,
   "id": "4",
   "metadata": {},
   "outputs": [],
   "source": [
    "cn.panel(acq)"
   ]
  },
  {
   "cell_type": "code",
   "execution_count": null,
   "id": "5",
   "metadata": {},
   "outputs": [],
   "source": [
    "cracker.osc_get_analog_wave(1, 0, 1000).shape"
   ]
  }
 ],
 "metadata": {
  "kernelspec": {
   "display_name": "Python 3 (ipykernel)",
   "language": "python",
   "name": "python3"
  },
  "language_info": {
   "codemirror_mode": {
    "name": "ipython",
    "version": 3
   },
   "file_extension": ".py",
   "mimetype": "text/x-python",
   "name": "python",
   "nbconvert_exporter": "python",
   "pygments_lexer": "ipython3",
   "version": "3.12.5"
  }
 },
 "nbformat": 4,
 "nbformat_minor": 5
}
