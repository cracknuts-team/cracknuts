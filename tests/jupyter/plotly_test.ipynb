{
 "cells": [
  {
   "cell_type": "code",
   "execution_count": null,
   "id": "0",
   "metadata": {},
   "outputs": [],
   "source": [
    "import zarr\n",
    "\n",
    "power_trace_path = r'D:\\project\\cracknuts\\demo\\jupyter\\dataset\\20250521110621(aes).zarr'\n",
    "cpa_result_path = r'D:\\project\\cracknuts\\demo\\jupyter\\dataset\\20250521110621(aes)_CPAAnalysis.zarr'\n",
    "\n",
    "power_trace = zarr.open(power_trace_path, mode='r')['/0/0/traces']\n",
    "cpa_result_trace = zarr.open(cpa_result_path, mode='r')['/0/0/correlation']"
   ]
  },
  {
   "cell_type": "code",
   "execution_count": null,
   "id": "1",
   "metadata": {},
   "outputs": [],
   "source": [
    "cpa_result_trace.shape"
   ]
  },
  {
   "cell_type": "code",
   "execution_count": null,
   "id": "2",
   "metadata": {},
   "outputs": [],
   "source": [
    "import plotly.graph_objects as go\n",
    "from plotly_resampler import  FigureResampler, FigureWidgetResampler\n",
    "\n",
    "fig = FigureResampler(go.Figure())\n",
    "fig.update_xaxes(\n",
    "    showline=True,   # 显示 x 轴外框\n",
    "    linewidth=1,     # 外框宽度\n",
    "    linecolor=\"#dddddd\",  # 外框颜色\n",
    "    mirror=True,     # 上下两边都画\n",
    "    gridwidth=1,      # 网格线宽度\n",
    "    gridcolor=\"#dddddd\"\n",
    ")\n",
    "\n",
    "fig.update_yaxes(\n",
    "    showline=True,   \n",
    "    linewidth=1,\n",
    "    linecolor=\"#dddddd\",\n",
    "    mirror=True,     \n",
    "    gridwidth=1,\n",
    "    gridcolor=\"#dddddd\"\n",
    ")\n",
    "\n",
    "fig.update_layout(\n",
    "    plot_bgcolor=\"white\",   # 绘图区背景白色\n",
    "    paper_bgcolor=\"white\"   # 整个画布背景白色\n",
    ")\n",
    "\n",
    "for i in range(power_trace.shape[0]):\n",
    "    fig.add_trace(go.Scattergl(name=f't{i}', showlegend=True, line={\"width\": 1}, mode=\"lines\"), hf_y=power_trace[i,:])\n",
    "fig.show_dash(port=8051) "
   ]
  },
  {
   "cell_type": "code",
   "execution_count": null,
   "id": "3",
   "metadata": {},
   "outputs": [],
   "source": [
    "for i, trace in enumerate(fig.data):\n",
    "    trace.visible = (i < 2)\n",
    "\n",
    "# 更新 FigureResampler 的显示\n",
    "fig.update(port=8051)"
   ]
  },
  {
   "cell_type": "code",
   "execution_count": null,
   "id": "4",
   "metadata": {},
   "outputs": [],
   "source": []
  },
  {
   "cell_type": "code",
   "execution_count": null,
   "id": "5",
   "metadata": {},
   "outputs": [],
   "source": []
  },
  {
   "cell_type": "code",
   "execution_count": null,
   "id": "6",
   "metadata": {},
   "outputs": [],
   "source": []
  },
  {
   "cell_type": "code",
   "execution_count": null,
   "id": "7",
   "metadata": {},
   "outputs": [],
   "source": []
  },
  {
   "cell_type": "code",
   "execution_count": null,
   "id": "8",
   "metadata": {},
   "outputs": [],
   "source": [
    "import numpy as np\n",
    "import pandas as pd\n",
    "import plotly.graph_objects as go\n",
    "from plotly_resampler import FigureResampler\n",
    "import datetime\n",
    "\n",
    "# 生成一个大规模时间序列\n",
    "N = 1_000_000\n",
    "time_index = pd.date_range(datetime.datetime.now(), periods=N, freq=\"ms\")\n",
    "signal = np.sin(np.linspace(0, 100*np.pi, N)) + np.random.normal(0, 0.1, N)\n",
    "\n",
    "# 使用 FigureResampler 包装 Plotly Figure\n",
    "fig = FigureResampler(go.Figure())\n",
    "\n",
    "# 添加大规模数据\n",
    "fig.add_trace(\n",
    "    go.Scattergl(name=\"Signal\"), \n",
    "    hf_x=time_index,  # 高频数据的时间戳\n",
    "    hf_y=signal       # 高频数据的值\n",
    ")\n",
    "\n",
    "# 设置布局\n",
    "fig.update_layout(\n",
    "    title=\"Plotly + plotly-resampler 示例\",\n",
    "    xaxis_title=\"Time\",\n",
    "    yaxis_title=\"Value\",\n",
    "    showlegend=True\n",
    ")\n",
    "\n",
    "# 显示图像\n",
    "fig.show_dash(mode='inline')"
   ]
  },
  {
   "cell_type": "code",
   "execution_count": null,
   "id": "9",
   "metadata": {},
   "outputs": [],
   "source": []
  }
 ],
 "metadata": {
  "kernelspec": {
   "display_name": "Python 3 (ipykernel)",
   "language": "python",
   "name": "python3"
  },
  "language_info": {
   "codemirror_mode": {
    "name": "ipython",
    "version": 3
   },
   "file_extension": ".py",
   "mimetype": "text/x-python",
   "name": "python",
   "nbconvert_exporter": "python",
   "pygments_lexer": "ipython3",
   "version": "3.12.5"
  }
 },
 "nbformat": 4,
 "nbformat_minor": 5
}
