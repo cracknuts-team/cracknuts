{
 "cells": [
  {
   "cell_type": "code",
   "execution_count": 6,
   "id": "0",
   "metadata": {},
   "outputs": [],
   "source": [
    "# 引入依赖\n",
    "import cracknuts as cn\n",
    "\n",
    "# 创建 cracker \n",
    "cracker = cn.new_cracker('192.168.0.19')"
   ]
  },
  {
   "cell_type": "code",
   "execution_count": 7,
   "id": "1",
   "metadata": {},
   "outputs": [],
   "source": [
    "cracker.connect(force_update_bin=True, force_write_default_config=True)"
   ]
  },
  {
   "cell_type": "code",
   "execution_count": 8,
   "id": "2",
   "metadata": {},
   "outputs": [
    {
     "data": {
      "text/plain": [
       "(0, 'test_sn')"
      ]
     },
     "execution_count": 8,
     "metadata": {},
     "output_type": "execute_result"
    }
   ],
   "source": [
    "cracker.get_id() # 获取设备ID"
   ]
  },
  {
   "cell_type": "code",
   "execution_count": 11,
   "id": "3",
   "metadata": {},
   "outputs": [],
   "source": [
    "import random\n",
    "import time\n",
    "from cracknuts.cracker import serial\n",
    "\n",
    "\n",
    "cmd_set_aes_enc_key = \"01 00 00 00 00 00 00 10\"\n",
    "cmd_aes_enc = \"01 02 00 00 00 00 00 10\"\n",
    "\n",
    "aes_key = \"11 22 33 44 55 66 77 88 99 00 aa bb cc dd ee ff\"\n",
    "aes_data_len = 16\n",
    "\n",
    "sample_length = 20000\n",
    "\n",
    "def init(c):\n",
    "    cracker.nut_voltage_enable()\n",
    "    cracker.nut_voltage(3.3)\n",
    "    cracker.nut_clock_enable()\n",
    "    cracker.nut_clock_freq('8M')\n",
    "    # cracker.uart_io_enable()\n",
    "    cracker.osc_sample_clock('48m')\n",
    "    cracker.osc_sample_length(sample_length)\n",
    "    cracker.osc_trigger_source('R')\n",
    "    cracker.osc_analog_gain('B', 10)\n",
    "    cracker.osc_trigger_level(0)\n",
    "    cracker.osc_trigger_mode('E')\n",
    "    cracker.osc_trigger_edge('U')\n",
    "    # cracker.uart_config(baudrate=serial.Baudrate.BAUDRATE_115200, bytesize=serial.Bytesize.EIGHTBITS, parity=serial.Parity.PARITY_NONE, stopbits=serial.Stopbits.STOPBITS_ONE)\n",
    "\n",
    "    time.sleep(2)\n",
    "    cmd = cmd_set_aes_enc_key + aes_key\n",
    "    status, ret = cracker.uart_transmit_receive(cmd, timeout=1000, rx_count=6)\n",
    "\n",
    "def do(cracer, count):\n",
    "    # print(count)\n",
    "    # plaintext_data = random.randbytes(aes_data_len)\n",
    "    # tx_data = bytes.fromhex(cmd_aes_enc.replace(' ', '')) + plaintext_data\n",
    "    # status, ret = cracker.uart_transmit_receive(tx_data, rx_count= 6 + aes_data_len, is_trigger=True)\n",
    "    cracker.nut_reset()\n",
    "    time.sleep(0.5)\n",
    "    return {\n",
    "        \"plaintext\": b'',\n",
    "        \"ciphertext\": b'',\n",
    "        \"key\": b''\n",
    "    }\n",
    "\n",
    "\n",
    "def finish(c):\n",
    "    ...\n",
    "    # print('optional behavior')\n",
    "\n",
    "\n",
    "acq = cn.new_acquisition(cracker, init=init, do=do, finish=finish)"
   ]
  },
  {
   "cell_type": "code",
   "execution_count": 12,
   "id": "4",
   "metadata": {},
   "outputs": [
    {
     "data": {
      "application/vnd.jupyter.widget-view+json": {
       "model_id": "34a8e0b0a3894d46aceb0fb36d45b429",
       "version_major": 2,
       "version_minor": 1
      },
      "text/plain": [
       "CracknutsPanelWidget(acq_run_progress={'finished': 0, 'total': -1}, connect_status=True, custom_y_range={'0': …"
      ]
     },
     "execution_count": 12,
     "metadata": {},
     "output_type": "execute_result"
    }
   ],
   "source": [
    "cn.panel(acq)"
   ]
  },
  {
   "cell_type": "code",
   "execution_count": null,
   "id": "67e0702f-e547-492a-bd09-42bf07b4c7d6",
   "metadata": {},
   "outputs": [],
   "source": []
  }
 ],
 "metadata": {
  "kernelspec": {
   "display_name": "Python 3 (ipykernel)",
   "language": "python",
   "name": "python3"
  },
  "language_info": {
   "codemirror_mode": {
    "name": "ipython",
    "version": 3
   },
   "file_extension": ".py",
   "mimetype": "text/x-python",
   "name": "python",
   "nbconvert_exporter": "python",
   "pygments_lexer": "ipython3",
   "version": "3.12.5"
  }
 },
 "nbformat": 4,
 "nbformat_minor": 5
}
